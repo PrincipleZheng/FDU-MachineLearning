{
 "cells": [
  {
   "cell_type": "markdown",
   "metadata": {},
   "source": [
    "# <center>Machine Learning: Assignment 2</center>\n",
    "**<center>黄绵秋  19307130142</center>**"
   ]
  },
  {
   "cell_type": "markdown",
   "metadata": {},
   "source": [
    "## 任务描述\n",
    "- 实现线性回归算法\n",
    "- 使用线性回归对iris数据集进行预测\n",
    "\n",
    "## 数据描述\n",
    "- iris数据集一共包含150个样本数据，按照iris种类分成3类，分别被标注为1,2,3，每个样本含有4个特征。\n",
    "- 将特征数据和标签数据分别从sklearn.dataset中导出到变量X,y中\n",
    "- iris数据集的一些信息如下"
   ]
  },
  {
   "cell_type": "code",
   "execution_count": 1,
   "metadata": {},
   "outputs": [
    {
     "name": "stdout",
     "output_type": "stream",
     "text": [
      "size: 150\n",
      "feature_names: ['sepal length (cm)', 'sepal width (cm)', 'petal length (cm)', 'petal width (cm)']\n",
      "target_names: ['setosa' 'versicolor' 'virginica']\n"
     ]
    }
   ],
   "source": [
    "from sklearn import datasets\n",
    "import numpy as np\n",
    "iris = datasets.load_iris()\n",
    "X = iris.data\n",
    "y = iris.target\n",
    "print('size:', len(X))\n",
    "print('feature_names:', iris.feature_names)\n",
    "print('target_names:', iris.target_names)"
   ]
  },
  {
   "cell_type": "markdown",
   "metadata": {},
   "source": [
    "\n",
    "## 数据处理\n",
    "- 不同特征的数值差别较大，这会导致数量级较大的属性占据主导地位，为防止数量级大的属性的少量变化引起收敛时的震荡和梯度爆炸，应对数据进行标准化处理。鉴于iris数据集较小较精确，且异常点和噪点极少，故采用归一化方式来保证各个特征相等的权重。"
   ]
  },
  {
   "cell_type": "code",
   "execution_count": 2,
   "metadata": {},
   "outputs": [
    {
     "name": "stdout",
     "output_type": "stream",
     "text": [
      "[[5.1 3.5 1.4 0.2]\n",
      " [4.9 3.  1.4 0.2]\n",
      " [4.7 3.2 1.3 0.2]\n",
      " [4.6 3.1 1.5 0.2]\n",
      " [5.  3.6 1.4 0.2]]\n",
      "[[1.         0.22222222 0.625      0.06779661 0.04166667]\n",
      " [1.         0.16666667 0.41666667 0.06779661 0.04166667]\n",
      " [1.         0.11111111 0.5        0.05084746 0.04166667]\n",
      " [1.         0.08333333 0.45833333 0.08474576 0.04166667]\n",
      " [1.         0.19444444 0.66666667 0.06779661 0.04166667]]\n"
     ]
    }
   ],
   "source": [
    "print(X[:5])\n",
    "import sklearn.preprocessing\n",
    "X = sklearn.preprocessing.MinMaxScaler().fit_transform(X)\n",
    "X = np.pad(X, ((0,0),(1,0)), 'constant', constant_values=(1))       #为X填充x_0=1\n",
    "# x_0为常值1，用来与w_0相乘，表示偏移量bias\n",
    "print(X[:5])"
   ]
  },
  {
   "cell_type": "markdown",
   "metadata": {},
   "source": [
    "- 为对回归结果进行有效评估，将数据分割成训练集和测试集两部分，其中70%为训练集，30%为测试集。"
   ]
  },
  {
   "cell_type": "code",
   "execution_count": 3,
   "metadata": {},
   "outputs": [
    {
     "name": "stdout",
     "output_type": "stream",
     "text": [
      "[[1.         0.47222222 0.29166667 0.69491525 0.625     ]\n",
      " [1.         0.44444444 0.41666667 0.69491525 0.70833333]\n",
      " [1.         0.55555556 0.58333333 0.77966102 0.95833333]]\n",
      "数据集size:\n",
      " 训练集 (105, 5) (105,) \n",
      " 测试集 (45, 5) \t (45,)\n"
     ]
    }
   ],
   "source": [
    "from sklearn.model_selection import train_test_split\n",
    "X_train, X_test, y_train, y_test = train_test_split(X, y, test_size=0.3, random_state=2021, shuffle=True)\n",
    "print(X_train[:3])\n",
    "print('数据集size:\\n', '训练集', X_train.shape, y_train.shape, '\\n 测试集', X_test.shape,'\\t', y_test.shape)"
   ]
  },
  {
   "cell_type": "markdown",
   "metadata": {},
   "source": [
    "## 线性回归模型\n",
    "\n",
    "### 线性回归概述\n",
    "线性回归用于在监督学习中预测输入变量和输出变量之间的关系，输入变量的值变化时，预测结果也通过线性回归进行相应变化。回归模型正是表示从输入变量到输出变量之间映射的函数。\n",
    "\n",
    "### 算法推导\n",
    "#### 符号规定\n",
    "$x_j^{(i)}$表示数据集第$i$个数据的第$j$个属性取值，$y^{(i)}$表示数据集第$i$个数据的标签值，$z^{(i)}$表示第$i$组数据的计算预测值。数据集一共有$m$个数据，$n$种属性。\n",
    "\n",
    "矩阵形式表示，$x_i=\\begin{bmatrix}1 & x_1^{(i)} & \\cdots & x_n^{(i)}\\end{bmatrix}$，$X=\\begin{bmatrix}1 & x_1^{(1)} & \\cdots & x_n^{(1)} \\\\ 1 & x_1^{(2)} & \\cdots & x_n^{(2)} \\\\ \\cdots & \\cdots & \\cdots & \\cdots \\\\ 1 & x_1^{(m)} & \\cdots & x_n^{(m)}\\end{bmatrix}$，参数$W=\\begin{bmatrix}w_0 \\\\ w_1 \\\\ \\vdots \\\\ w_n\\end{bmatrix}$，数据集标签为$y=\\begin{bmatrix}y^{(1)} \\\\ y^{(2)} \\\\ \\vdots \\\\ y^{(m)}\\end{bmatrix}$\n",
    "\n",
    "#### 模型目标\n",
    "模型定义为$f(x)=\\sum_{i=0}^n{w_ix_i}$，其中$x_0=1$，矩阵表示为$f(x)=XW$。我们的目的就是寻找最合适的$W$来最好效果地拟合和预测。\n"
   ]
  },
  {
   "cell_type": "markdown",
   "metadata": {},
   "source": [
    "##### 正规方程法\n",
    "线性回归试图学得$z = \\sum_{i=0}^nw_ix_i$，使得$z\\simeq y$。而回归任务中常用的学习$W$手段便是均方差(MSE-mean squared error)：\n",
    "$$J=\\frac{1}{2m}\\sum_{i=1}^m(z_i-y_i)^2=\\frac{1}{2m}\\sum_{i=1}^m(y^{(i)}-\\sum_{j=0}^nw_jx_j^{(i)})^2$$\n",
    "我们要让均方差最小，也就要使得$\\frac{\\partial J}{\\partial w}$为0。以$w_k$为例\n",
    "$$\\frac{\\partial J}{\\partial w_k}=\\frac{\\partial( \\frac{1}{2m}\\sum_{i=1}^m(y^{(i)}-\\sum_{j=0}^nw_jx_j^{(i)})^2)}{\\partial w_k}=\\frac{1}{m}\\sum_{i=1}^m[(y^{(i)}-\\sum_{j=0}^nw_jx_j^{(i)})(-x_k^{(i)})]=0$$\n",
    "\n",
    "由此可以得到一个关于$w_k$的方程组，可由此解出各个$w_k$的值，方程组如下:\n",
    "$$\\begin{cases}\n",
    "\\sum_{i=1}^m[(y^{(i)}-\\sum_{j=0}^nw_jx_j^{(i)})(-x_0^{(i)})]=0\\\\\n",
    "\\sum_{i=1}^m[(y^{(i)}-\\sum_{j=0}^nw_jx_j^{(i)})(-x_1^{(i)})]=0\\\\\n",
    "\\cdots\\\\\n",
    "\\sum_{i=1}^m[(y^{(i)}-\\sum_{j=0}^nw_jx_j^{(i)})(-x_n^{(i)})]=0\n",
    "\\end{cases}$$\n",
    "化简如下:\n",
    "$$\\begin{cases}\n",
    "\\sum_{j=0}^n[w_jx_0^{(i)}(\\sum_{i=1}^mx_j^{(i)})]=\\sum_{i=1}^mx_0^{(i)}y^{(i)}\\\\\n",
    "\\sum_{j=0}^n[w_jx_1^{(i)}(\\sum_{i=1}^mx_j^{(i)})]=\\sum_{i=1}^mx_1^{(i)}y^{(i)}\\\\\n",
    "\\cdots\\\\\n",
    "\\sum_{j=0}^n[w_jx_n^{(i)}(\\sum_{i=1}^mx_j^{(i)})]=\\sum_{i=1}^mx_n^{(i)}y^{(i)}\n",
    "\\end{cases}$$\n",
    "\n",
    "我们要求解的便是向量$W=\\begin{bmatrix}w_0 \\\\ w_1 \\\\ \\vdots \\\\ w_n\\end{bmatrix}$。记矩阵$A=\\begin{bmatrix}\\sum_{i=1}^m(x_0^{(i)}x_0^{(i)}) & \\sum_{i=1}^m(x_0^{(i)}x_1^{(i)}) & \\cdots & \\sum_{i=1}^m(x_0^{(i)}x_n^{(i)}) \\\\ \\sum_{i=1}^m(x_1^{(i)}x_0^{(i)}) & \\sum_{i=1}^m(x_1^{(i)}x_1^{(i)}) & \\cdots & \\sum_{i=1}^m(x_1^{(i)}x_n^{(i)})\\\\ \\cdots & \\cdots & \\cdots & \\cdots \\\\ \\sum_{i=1}^m(x_n^{(i)}x_0^{(i)}) & \\sum_{i=1}^m(x_n^{(i)}x_1^{(i)}) & \\cdots & \\sum_{i=1}^m(x_n^{(i)}x_n^{(i)}) \\end{bmatrix}$，矩阵$B=\\begin{bmatrix}\\sum_{i=1}^m(x_0^{(i)}y^{(i)})\\\\\\sum_{i=1}^m(x_1^{(i)}y^{(i)})\\\\\\cdots \\\\ \\sum_{i=1}^m(x_n^{(i)}y^{(i)})\\end{bmatrix}$。\n",
    "\n",
    "由线代知识易知\n",
    "$$AW=B \\\\ A^{T}AW=A^{T}B \\\\ W=(A^TA)^{-1}A^TB$$\n",
    "这个过程利用Python中解方程的函数即可求得W"
   ]
  },
  {
   "cell_type": "markdown",
   "metadata": {},
   "source": [
    "#### 梯度下降法\n",
    "与正规方程法类似，梯度下降法也是使得MSE尽可能小，但并不通过直接计算，而是根据梯度对数据进行调整，利用导数传递误差，再通过迭代的方式一步一步逼近真实解。\n",
    "\n",
    "损失函数$loss^{(i)}=\\frac{1}{2m}(z^{(i)}-y^{(i)})^2$\n",
    "\n",
    "计算$z$的梯度:$\\frac{\\partial J^{(i)}}{\\partial z^{(i)}}=\\frac{1}{m}(z^{(i)}-y^{(i)})$\n",
    "\n",
    "计算$W$的梯度:\n",
    "$$\\begin{aligned}\\frac{\\partial J}{\\partial W}&=\\begin{bmatrix}\\frac{\\partial J}{\\partial w_0}\\\\ \\frac{\\partial J}{\\partial w_1}\\\\ \\vdots\\\\ \\frac{\\partial J}{\\partial w_n}\\end{bmatrix}=\\begin{bmatrix}\\sum_{i=1}^m(\\frac{\\partial J}{\\partial z_i}\\frac{\\partial z_i}{\\partial w_0})\\\\\\sum_{i=1}^m(\\frac{\\partial J}{\\partial z_i}\\frac{\\partial z_i}{\\partial w_1})\\\\\\vdots\\\\\\sum_{i=1}^m(\\frac{\\partial J}{\\partial z_i}\\frac{\\partial z_i}{\\partial w_n})\\end{bmatrix} \\\\&=\\begin{bmatrix}\\frac{1}{m}\\sum_{i=1}^m(z^{(i)}-y^{(i)})x_0^{(i)}\\\\\\frac{1}{m}\\sum_{i=1}^m(z^{(i)}-y^{(i)})x_1^{(i)}\\\\\\vdots\\\\\\frac{1}{m}\\sum_{i=1}^m(z^{(i)}-y^{(i)})x_n^{(i)}\\end{bmatrix}\\\\&=\\frac{1}{m}\\begin{bmatrix}1 & x_1^{(1)} & \\cdots & x_n^{(1)} \\\\ 1 & x_1^{(2)} & \\cdots & x_n^{(2)} \\\\ \\cdots & \\cdots & \\cdots & \\cdots \\\\ 1 & x_1^{(m)} & \\cdots & x_n^{(m)}\\end{bmatrix}^T\\begin{bmatrix}z^{(1)}-y^{(1)}\\\\z^{(2)}-y^{(2)}\\\\\\vdots\\\\z^{(m)}-y^{(m)}\\end{bmatrix}\\\\&=\\frac{1}{m}X^T(Z-Y)\\end{aligned}$$"
   ]
  },
  {
   "cell_type": "markdown",
   "metadata": {},
   "source": [
    "### 模型实现\n",
    "#### 最小二乘法实现"
   ]
  },
  {
   "cell_type": "code",
   "execution_count": 4,
   "metadata": {},
   "outputs": [],
   "source": [
    "class NormalEquation():\n",
    "    def __init__(self, feature_dimension):\n",
    "        \"\"\"Initialize variable matrix W\n",
    "\n",
    "        Args:\n",
    "            feature_dimension (int): count of feature\n",
    "        \"\"\"\n",
    "        self.D = feature_dimension\n",
    "        self.W = np.zeros((self.D, ))\n",
    "    \n",
    "    def train(self, X, y):\n",
    "        \"\"\"Use normal equation with input X and y to calculate W\n",
    "\n",
    "        Args:\n",
    "            X (numpy.array((sample_number, feature_dimension))): matrix X\n",
    "            y (numpy.array((feature_dimension, ))): vector y\n",
    "        \"\"\"\n",
    "        m = X.shape[0]\n",
    "        n = X.shape[1]\n",
    "        A = [[np.sum([X[i][k]*X[i][j] for i in range(m)]) for k in range(n)] for j in range(n)]\n",
    "        A = np.array(A)\n",
    "        B = [np.sum([X[i][j]*y[i] for i in range(m)]) for j in range(n)]\n",
    "        B = np.array(B).T\n",
    "        self.W = np.linalg.solve(A, B)\n",
    "\n",
    "    def predict(self, X):\n",
    "        \"\"\"Use variable matrix W to predict the label result\n",
    "\n",
    "        Args:\n",
    "            X (numpy.array((test_sample, feature_dimension))): the input matrix X\n",
    "\n",
    "        Returns:\n",
    "            [int]: the prediction of the label result.\n",
    "        \"\"\"\n",
    "        m = np.array(np.dot(X, self.W))\n",
    "        return m\n"
   ]
  },
  {
   "cell_type": "markdown",
   "metadata": {},
   "source": [
    "#### 梯度下降法实现\n"
   ]
  },
  {
   "cell_type": "code",
   "execution_count": 5,
   "metadata": {},
   "outputs": [],
   "source": [
    "class LinearRegression():\n",
    "    def __init__(self, feature_dimension):\n",
    "        \"\"\"Initialize variable matrix W\n",
    "\n",
    "        Args:\n",
    "            feature_dimension (int): count of feature\n",
    "        \"\"\"\n",
    "        self.D = feature_dimension\n",
    "        self.W = np.zeros((self.D, ))\n",
    "        return\n",
    "\n",
    "    def cal_loss(self, X, y):\n",
    "        \"\"\"calculate the loss function using input matrix X and vector y\n",
    "\n",
    "        Args:\n",
    "            X (numpy.array((sample_number, feature_dimension))): matrix X\n",
    "            y (numpy.array((feature_dimension, ))): vector y\n",
    "\n",
    "        Returns:\n",
    "            [float]: the loss of the training data\n",
    "            [numpy.array]: delta W\n",
    "        \"\"\"\n",
    "        m = X.shape[0]\n",
    "        w = self.W\n",
    "        y_hat = np.dot(X, w)\n",
    "        dy = y_hat - y\n",
    "        loss = dy.T.dot(dy)\n",
    "        loss = loss / 2 / m\n",
    "        dw = X.T.dot(dy)/m\n",
    "        return loss, dw\n",
    "        \n",
    "    def train(self, X, y, learning_rate=0.99, iteration=1000, loss_print=False):\n",
    "        \"\"\"Use input matrix X and vector y to train the model.\n",
    "\n",
    "        Args:\n",
    "            X (numpy.array((sample_number, feature_dimension))): matrix X\n",
    "            y (numpy.array((feature_dimension, ))): vector y\n",
    "            learning_rate (float, optional): learning rate(may also called alpha). Defaults to 0.99.\n",
    "            iteration (int, optional): Number of iterations. Defaults to 1000.\n",
    "            loss_print (bool, optional): True if want to print the loss. Defaults to False.\n",
    "        \"\"\"\n",
    "        loss, dw = None, None\n",
    "        for i in range(iteration):\n",
    "            loss, dw = self.cal_loss(X, y)\n",
    "            self.W = self.W - learning_rate * dw\n",
    "            if loss_print:\n",
    "                print('Iteration: %d , Loss: %.2f' % (i, loss))\n",
    "\n",
    "    def predict(self, X):\n",
    "        \"\"\"Use variable matriX W to predict the label result\n",
    "\n",
    "        Args:\n",
    "            X (numpy.array((test_sample, feature_dimension))): the input matrix X\n",
    "\n",
    "        Returns:\n",
    "            [int]: the prediction of the label result.\n",
    "        \"\"\"\n",
    "        return X.dot(self.W)\n",
    "    \n"
   ]
  },
  {
   "cell_type": "markdown",
   "metadata": {},
   "source": [
    "### 模型结果\n",
    "#### 预测正确性判断\n",
    "分别用两种模型进行训练并预测，并取四舍五入的结果作为预测结果，通过统计预测的正确性来判断模型的效果。"
   ]
  },
  {
   "cell_type": "code",
   "execution_count": 6,
   "metadata": {},
   "outputs": [
    {
     "name": "stdout",
     "output_type": "stream",
     "text": [
      "Normal equation test score: 0.9556\n",
      "Linear regression with 10 iterations test score: 0.7333\n",
      "Linear regression with 100 iterations test score: 0.9556\n",
      "Linear regression with 1000 iterations test score: 0.9556\n",
      "Linear regression with 10000 iterations test score: 0.9556\n"
     ]
    }
   ],
   "source": [
    "def score(test_result, y_test):\n",
    "    counter = 0\n",
    "    acc = 0\n",
    "    for (pred_label, true_label) in zip(test_result, y_test):\n",
    "        counter += 1\n",
    "        if pred_label == true_label:\n",
    "            acc += 1\n",
    "    return acc/counter\n",
    "\n",
    "    \n",
    "normal_equation = NormalEquation(X_train.shape[1])\n",
    "normal_equation.train(X_train, y_train)\n",
    "test_result = normal_equation.predict(X_test).round()\n",
    "print('Normal equation test score: %.4f' % score(test_result, y_test))\n",
    "\n",
    "lr = LinearRegression(X_train.shape[1])\n",
    "lr.train(X_train, y_train, iteration=10)\n",
    "test_result = lr.predict(X_test).round()\n",
    "print('Linear regression with 10 iterations test score: %.4f' % score(test_result, y_test))\n",
    "lr.train(X_train, y_train, iteration=100)\n",
    "test_result = lr.predict(X_test).round()\n",
    "print('Linear regression with 100 iterations test score: %.4f' % score(test_result, y_test))\n",
    "lr.train(X_train, y_train, iteration=1000)\n",
    "test_result = lr.predict(X_test).round()\n",
    "print('Linear regression with 1000 iterations test score: %.4f' % score(test_result, y_test))\n",
    "lr.train(X_train, y_train, iteration=10000)\n",
    "test_result = lr.predict(X_test).round()\n",
    "print('Linear regression with 10000 iterations test score: %.4f' % score(test_result, y_test))"
   ]
  },
  {
   "cell_type": "markdown",
   "metadata": {},
   "source": [
    "#### 线性回归绘制\n",
    "取一个特征维度，分别用两种模型进行线性回归，并将回归的直线进行可视化处理，以此直观地判断拟合的程度。"
   ]
  },
  {
   "cell_type": "code",
   "execution_count": 7,
   "metadata": {},
   "outputs": [
    {
     "data": {
      "image/png": "[encoded data removed]",
      "text/plain": [
       "<Figure size 432x288 with 1 Axes>"
      ]
     },
     "metadata": {
      "needs_background": "light"
     },
     "output_type": "display_data"
    }
   ],
   "source": [
    "import matplotlib.pyplot as plt\n",
    "regression_X = iris.data[:50]\n",
    "regression_X = sklearn.preprocessing.MinMaxScaler().fit_transform(regression_X)\n",
    "regression_X = np.pad(regression_X, ((0,0),(1,0)), 'constant', constant_values=(1))       #为X填充x_0=1\n",
    "regression_y = iris.target[:50]\n",
    "reg_X_train, reg_X_test, reg_y_train, reg_y_test = train_test_split(regression_X, regression_y, test_size=0.3, random_state=2021, shuffle=True)\n",
    "\n",
    "show_X_train = reg_X_train[:,:2]\n",
    "show_X_test = reg_X_test[:,:2]\n",
    "show_X_test_scatter = reg_X_test[:,1]\n",
    "show_y_train = reg_X_train[:,2:3]\n",
    "show_y_test = reg_X_test[:,2:3]\n",
    "show_y_train = show_y_train.reshape((show_y_train.shape[0],))\n",
    "show_y_test = show_y_test.reshape((show_y_test.shape[0],))\n",
    "\n",
    "show_nor_equ = NormalEquation(2)\n",
    "show_nor_equ.train(show_X_train, show_y_train)\n",
    "show_lr_0 = LinearRegression(2)\n",
    "show_lr_0.train(show_X_train, show_y_train, iteration=0)\n",
    "show_lr_10 = LinearRegression(2)\n",
    "show_lr_10.train(show_X_train, show_y_train, iteration=10)\n",
    "show_lr_100 = LinearRegression(2)\n",
    "show_lr_100.train(show_X_train, show_y_train, iteration=100)\n",
    "show_lr_1000 = LinearRegression(2)\n",
    "show_lr_1000.train(show_X_train, show_y_train, iteration=1000)\n",
    "\n",
    "model_dict = {\n",
    "    show_nor_equ: \"NormalEquation\",\n",
    "    show_lr_0: \"LinearRegression: iter-0\",\n",
    "    show_lr_10: \"LinearRegression: iter-10\",\n",
    "    show_lr_100: \"LinearRegression: iter-100\",\n",
    "    show_lr_1000: \"LinearRegression: iter-1000\"\n",
    "}\n",
    "plt.xlabel('x label')\n",
    "plt.ylabel('y label')\n",
    "plt.scatter(show_X_test_scatter, show_y_test)\n",
    "for model, model_str in model_dict.items():\n",
    "    # model.train(show_X_train, show_y_train)\n",
    "    plt.plot(show_X_test_scatter, model.predict(show_X_test), label=model_str)\n",
    "plt.legend(bbox_to_anchor=(1.05, 1), loc='upper left', borderaxespad=0.);"
   ]
  },
  {
   "cell_type": "markdown",
   "metadata": {},
   "source": [
    "### 模型优化\n",
    "#### kFold算法交叉验证\n",
    "将数据集k等分进行交叉验证"
   ]
  },
  {
   "cell_type": "code",
   "execution_count": 8,
   "metadata": {},
   "outputs": [],
   "source": [
    "from sklearn.model_selection import KFold\n",
    "def score_with_kfold(X, y, model, needIter=False, iter=1000):\n",
    "    kf = KFold(n_splits=10, shuffle=True, random_state=2021)\n",
    "    scores = []\n",
    "    for train_index, test_index in kf.split(X):\n",
    "        X_train = X[train_index]\n",
    "        y_train = y[train_index]\n",
    "        X_test = X[test_index]\n",
    "        y_test = y[test_index]\n",
    "        Model = model(X_train.shape[1])\n",
    "        if needIter == False:\n",
    "            Model.train(X_train, y_train)\n",
    "        else:\n",
    "            Model.train(X_train, y_train, iteration=iter)\n",
    "        test_result = Model.predict(X_test).round()\n",
    "        scores.append(score(test_result, y_test))\n",
    "    return np.mean(scores)"
   ]
  },
  {
   "cell_type": "code",
   "execution_count": 9,
   "metadata": {},
   "outputs": [
    {
     "name": "stdout",
     "output_type": "stream",
     "text": [
      "NormalEquation accuracy: 0.9600\n",
      "LinearRegression-iter 0    accuracy: 0.3333\n",
      "LinearRegression-iter 10   accuracy: 0.7933\n",
      "LinearRegression-iter 100  accuracy: 0.9600\n",
      "LinearRegression-iter 1000 accuracy: 0.9600\n"
     ]
    }
   ],
   "source": [
    "X = iris.data\n",
    "y = iris.target\n",
    "X = sklearn.preprocessing.MinMaxScaler().fit_transform(X)\n",
    "X = np.pad(X, ((0,0),(1,0)), 'constant', constant_values=(1))       #为X填充x_0=1\n",
    "model_nor_equ = NormalEquation\n",
    "iter_list = [0, 10, 100, 1000]\n",
    "print(\"NormalEquation\", 'accuracy: %.4f' % score_with_kfold(X, y, model_nor_equ))\n",
    "for iter in iter_list:\n",
    "    print(\"LinearRegression-iter %-4s\" %str(iter),\"accuracy: %.4f\" % score_with_kfold(X, y, LinearRegression, needIter=True, iter=iter))\n"
   ]
  },
  {
   "cell_type": "markdown",
   "metadata": {},
   "source": [
    "#### RidgeRegression(岭回归)\n",
    "为最小二乘法估计中加入一个扰动$\\lambda I$，使得原先无法求出广义逆的情况变成可以求出其广义逆，使得问题稳定并得以求解。同时，岭回归在计算`loss`时加入$L2$正则化，即:\n",
    "$$J = \\frac{1}{2m}\\sum_{i=1}^m(z^{(i)}-y^{(i)})^2 + \\lambda\\sum_{i=0}^nw_i^2$$"
   ]
  },
  {
   "cell_type": "code",
   "execution_count": 10,
   "metadata": {},
   "outputs": [],
   "source": [
    "class RidgeRegression(LinearRegression):\n",
    "    def __init__(self, feature_dimension, lambdaI=0.01):\n",
    "        super().__init__(feature_dimension)\n",
    "        self.lambdaI = lambdaI\n",
    "    \n",
    "    def cal_loss(self, X, y):\n",
    "        \"\"\"calculate the loss function using input matrix X and vector y\n",
    "\n",
    "        Args:\n",
    "            X (numpy.array((sample_number, feature_dimension))): matrix X\n",
    "            y (numpy.array((feature_dimension, ))): vector y\n",
    "\n",
    "        Returns:\n",
    "            [float]: the loss of the training data\n",
    "            [numpy.array]: delta W\n",
    "        \"\"\"\n",
    "        m = X.shape[0]\n",
    "        w = self.W\n",
    "        l = self.lambdaI\n",
    "        y_hat = np.dot(X, w)\n",
    "        dy = y_hat - y\n",
    "        loss = dy.T.dot(dy)\n",
    "        loss = loss / 2 / m\n",
    "        loss += l * np.sum(np.power(w, 2))\n",
    "        dw = X.T.dot(dy)/m\n",
    "        dw += 2 * l * w\n",
    "        return loss, dw"
   ]
  },
  {
   "cell_type": "code",
   "execution_count": 11,
   "metadata": {},
   "outputs": [
    {
     "name": "stdout",
     "output_type": "stream",
     "text": [
      "RidgeRegression-iter 0    accuracy: 0.3333\n",
      "RidgeRegression-iter 10   accuracy: 0.7400\n",
      "RidgeRegression-iter 100  accuracy: 0.9600\n",
      "RidgeRegression-iter 1000 accuracy: 0.9600\n"
     ]
    }
   ],
   "source": [
    "for iter in iter_list:\n",
    "    print(\"RidgeRegression-iter %-4s\"%str(iter),\"accuracy: %.4f\" % score_with_kfold(X, y, RidgeRegression, needIter=True, iter=iter))\n"
   ]
  },
  {
   "cell_type": "markdown",
   "metadata": {},
   "source": [
    "#### LassoRegression(Lasso回归)\n",
    "Lasso回归与岭回归类似，同样引入扰动$\\lambda I$，但在计算`loss`时加上$L1$正则化，也即:\n",
    "$$J = \\frac{1}{2m}\\sum_{i=1}^m(z^{(i)}-y^{(i)})^2 + \\lambda\\sum_{i=0}^n|w_i|$$"
   ]
  },
  {
   "cell_type": "code",
   "execution_count": 12,
   "metadata": {},
   "outputs": [],
   "source": [
    "class LassoRegression(LinearRegression):\n",
    "    def __init__(self, feature_dimension, lambdaI=0.01):\n",
    "        super().__init__(feature_dimension)\n",
    "        self.lambdaI = lambdaI\n",
    "    \n",
    "    def cal_loss(self, X, y):\n",
    "        \"\"\"calculate the loss function using input matrix X and vector y\n",
    "\n",
    "        Args:\n",
    "            X (numpy.array((sample_number, feature_dimension))): matrix X\n",
    "            y (numpy.array((feature_dimension, ))): vector y\n",
    "\n",
    "        Returns:\n",
    "            [float]: the loss of the training data\n",
    "            [numpy.array]: delta W\n",
    "        \"\"\"\n",
    "        m = X.shape[0]\n",
    "        w = self.W\n",
    "        l = self.lambdaI\n",
    "        y_hat = np.dot(X, w)\n",
    "        dy = y_hat - y\n",
    "        loss = dy.T.dot(dy)\n",
    "        loss = loss / 2 / m\n",
    "        loss += l * np.sum(np.abs(w))\n",
    "        dw = X.T.dot(dy)/m\n",
    "        dw += 2 * l * w\n",
    "        return loss, dw"
   ]
  },
  {
   "cell_type": "code",
   "execution_count": 13,
   "metadata": {},
   "outputs": [
    {
     "name": "stdout",
     "output_type": "stream",
     "text": [
      "LassoRegression-iter 0    accuracy: 0.3333\n",
      "LassoRegression-iter 10   accuracy: 0.7400\n",
      "LassoRegression-iter 100  accuracy: 0.9600\n",
      "LassoRegression-iter 1000 accuracy: 0.9600\n"
     ]
    }
   ],
   "source": [
    "for iter in iter_list:\n",
    "    print(\"LassoRegression-iter %-4s\"%str(iter),\"accuracy: %.4f\" % score_with_kfold(X, y, LassoRegression, needIter=True, iter=iter))\n",
    "    "
   ]
  },
  {
   "cell_type": "markdown",
   "metadata": {},
   "source": [
    "#### Lasso和Ridge的对比\n",
    "`RidgeRegression`中，以两个变量为例, 残差平方和可以表示为$w_1, w_2$的一个二次函数，是一个在三维空间中的抛物面，可以用等值线来表示。而限制条件$w_1^2+w_2^2<t$，相当于在二维平面的一个圆。这个时候等值线与圆相切的点便是在约束条件下的最优点。\n",
    "\n",
    "而对于`LassoRegression`而言，同样以两个变量为例，标准线性回归的$loss$还是可以用二维平面的等值线表示，而约束条件则与岭回归的圆不同，`lasso`的约束条件可以用方形表示。相比圆，方形的顶点更容易与抛物面相交，顶点就意味着对应的很多系数为0，而岭回归中的圆上的任意一点都很容易与抛物面相交很难得到正好等于0的系数。这也就意味着，`lasso`起到了很好的筛选变量的作用。\n",
    "\n",
    "![LassoRidge_Graphic](./LassoRidge.png \"`LassoRegression`(left) and `RidgeRegression`(right)\")"
   ]
  },
  {
   "cell_type": "markdown",
   "metadata": {},
   "source": [
    "## 结果分析和思考\n",
    "通过模型训练对标签进行预测，并在数据处理时采用了标准化的方式进行预处理。同时，通过正规方程法、梯度下降法和岭回归三种方法对模型进行训练，并得到了他们各自的预测准确率。还使用正规方程法和梯度下降法不同迭代次数对同一种花的数据进行了线性回归的可视化处理。\n",
    "\n",
    "下面，我将分析和思考各个处理的原因和特点。\n",
    "- 数据标准化\n",
    "\n",
    "    当一组数据有多个特征时，不同特征的数量级可能并不一样，各特征之间差距大会导致不同特征的权重不一样，从而使得结果不稳定、不可靠。因而可以通过将数据根据在自身维度上的大小统一映射到一个区间内，便消除了不同特征数量级的影响。\n",
    "\n",
    "    ![数据标准化](./normalization.jpeg)\n",
    "    \n",
    "\n",
    "- 正规方程法\n",
    "\n",
    "    正规方程法从均方差(MSE)出发，通过让均方差最小，从方程组出发，从数学角度解出参数矩阵$W$，得到数据可靠条件下的理论最优解。这种方式在数据可靠和噪点少的情况下可信度高，但\n",
    "  - 优点:\n",
    "\n",
    "  1. 在数据可靠和噪点少的情况下可信度高\n",
    "  - 缺点:\n",
    "\n",
    "  1. 模型的延展性较差，无法在已有模型的基础上进一步训练，只能通过重新建立方程组求解的方式来得到新的$W$矩阵。\n",
    "  2. 无法辨别出数据中的噪点，无法确定数据的权重，所有变量均被视为不同线性维度上的互不相关的变量，都拥有相同的权重。\n",
    "\n",
    "- 梯度下降法\n",
    "\n",
    "    梯度下降法也从均方差(MSE)出发，但并不直接解出$W$，而是通过梯度下降的方式，不断迭代逼近$W$，并且从实验结果可以看出，迭代次数足够多时，梯度下降法正确率与正规方程法相同，这是因为已经逼近到与理论最优解相等。\n",
    "  - 优点:\n",
    "\n",
    "  1. 模型延展性好，已有模型再加入数据训练也只需要增加迭代次数而对$W$进行调整。\n",
    "  - 缺点:\n",
    "\n",
    "  1. 本质上也是通过逼近正规方程结果得到，但当某些列间线性相关性大时，$X^TX$不满秩，接近奇异矩阵，误差很大。\n",
    "- 岭回归\n",
    "\n",
    "    岭回归是梯度下降法的一种优化解法，通过加上$\\lambda I$来对矩阵的秩进行调整，也就将不适定问题转化为了适定问题。\n",
    "\n",
    "  - 优点:\n",
    "\n",
    "  1. 降低了多重共线问题的出现概率，缓解了过拟合问题，增强了模型的稳定性和可靠性。\n",
    "  - 缺点:\n",
    "\n",
    "  1. $\\lambda I$的加入会损失部分信息、降低精度。\n",
    "  2. 没有从根本上解决多重共线问题。\n",
    "\n",
    "- Lasso回归\n",
    "\n",
    "    Lasso回归与岭回归类似，也是通过加上$\\lambda I$来对矩阵的秩进行调整，也就将不适定问题转化为了适定问题。\n",
    "  - 优点\n",
    "\n",
    "  1. 与岭回归类似缓解过拟合问题。\n",
    "  2. 比起岭回归更容易使部分权重变为0，从而可以进行`feature selection`\n",
    "  - 缺点\n",
    "  1. 会损失信息、降低精度，特别是进行`feature selection`。\n",
    "  2. 同样没有在根本上解决多重共线问题。\n",
    "  3. 无法得出显式解，智能使用近似化的计算法（坐标轴下降法和最小角回归法）估计出来的结果不太稳定，存在一定的误差。"
   ]
  },
  {
   "cell_type": "markdown",
   "metadata": {},
   "source": [
    "## 总结\n",
    "本次实验我们分别通过正规方程法、梯度下降法和岭回归法三种方法对回归问题进行分析，证明了数学角度上的可行性。搭建了这三种模型，均在iris数据集上取得了良好的效果，并且三者在充分训练时(迭代次数足够时)，预测得到的正确率是相同的。这一过程中，我们通过标准化的方式消除了数据之间量级的差异，保证了数据的可靠性和模型的稳定性；利用kFold交叉验证算法保证了数据的充分利用和模型的可靠性。最终得到了约0.96的准确率。"
   ]
  }
 ],
 "metadata": {
  "kernelspec": {
   "display_name": "Python 3.9.7 ('base')",
   "language": "python",
   "name": "python3"
  },
  "language_info": {
   "codemirror_mode": {
    "name": "ipython",
    "version": 3
   },
   "file_extension": ".py",
   "mimetype": "text/x-python",
   "name": "python",
   "nbconvert_exporter": "python",
   "pygments_lexer": "ipython3",
   "version": "3.9.7"
  },
  "vscode": {
   "interpreter": {
    "hash": "16f5b46f222e2a3e8d4adbf7141cae37b71ed37616e60735fa5d1164a1bc3ada"
   }
  }
 },
 "nbformat": 4,
 "nbformat_minor": 2
}
