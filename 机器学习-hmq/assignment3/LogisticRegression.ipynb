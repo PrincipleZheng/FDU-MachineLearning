{
 "cells": [
  {
   "cell_type": "markdown",
   "metadata": {},
   "source": [
    "# Machine Learning: Assignment 3\n",
    "**黄绵秋 19307130142**"
   ]
  },
  {
   "cell_type": "markdown",
   "metadata": {},
   "source": [
    "## 任务描述\n",
    "- 实现逻辑回归算法\n",
    "- 通过逻辑回归分类算法对`breast_cancer`数据集进行预测"
   ]
  },
  {
   "cell_type": "markdown",
   "metadata": {},
   "source": [
    "## 数据描述\n",
    "- `breast_cancer`数据集一共包含569组数据，按照恶性`malignant`和良性`benign`分为两类，分别被标注为0和1，每组数据包含30个特征\n",
    "- 将特征数据和标签数据分别从`sklearn.datasets`中导出到变量`X,y`中\n",
    "- `breast_cancer`数据集的一些信息如下"
   ]
  },
  {
   "cell_type": "code",
   "execution_count": 1,
   "metadata": {},
   "outputs": [
    {
     "name": "stdout",
     "output_type": "stream",
     "text": [
      "data_size: 569\n",
      "feature_numbers: 30\n",
      "target_names: ['malignant' 'benign']\n",
      ".. _breast_cancer_dataset:\n",
      "\n",
      "Breast cancer wisconsin (diagnostic) dataset\n",
      "--------------------------------------------\n",
      "\n",
      "**Data Set Characteristics:**\n",
      "\n",
      "    :Number of Instances: 569\n",
      "\n",
      "    :Number of Attributes: 30 numeric, predictive attributes and the class\n",
      "\n",
      "    :Attribute Information:\n",
      "        - radius (mean of distances from center to points on the perimeter)\n",
      "        - texture (standard deviation of gray-scale values)\n",
      "        - perimeter\n",
      "        - area\n",
      "        - smoothness (local variation in radius lengths)\n",
      "        - compactness (perimeter^2 / area - 1.0)\n",
      "        - concavity (severity of concave portions of the contour)\n",
      "        - concave points (number of concave portions of the contour)\n",
      "        - symmetry\n",
      "        - fractal dimension (\"coastline approximation\" - 1)\n",
      "\n",
      "        The mean, standard error, and \"worst\" or largest (mean of the three\n",
      "        worst/largest values) of these features were computed for each image,\n",
      "        resulting in 30 features.  For instance, field 0 is Mean Radius, field\n",
      "        10 is Radius SE, field 20 is Worst Radius.\n",
      "\n",
      "        - class:\n",
      "                - WDBC-Malignant\n",
      "                - WDBC-Benign\n",
      "\n",
      "    :Summary Statistics:\n",
      "\n",
      "    ===================================== ====== ======\n",
      "                                           Min    Max\n",
      "    ===================================== ====== ======\n",
      "    radius (mean):                        6.981  28.11\n",
      "    texture (mean):                       9.71   39.28\n",
      "    perimeter (mean):                     43.79  188.5\n",
      "    area (mean):                          143.5  2501.0\n",
      "    smoothness (mean):                    0.053  0.163\n",
      "    compactness (mean):                   0.019  0.345\n",
      "    concavity (mean):                     0.0    0.427\n",
      "    concave points (mean):                0.0    0.201\n",
      "    symmetry (mean):                      0.106  0.304\n",
      "    fractal dimension (mean):             0.05   0.097\n",
      "    radius (standard error):              0.112  2.873\n",
      "    texture (standard error):             0.36   4.885\n",
      "    perimeter (standard error):           0.757  21.98\n",
      "    area (standard error):                6.802  542.2\n",
      "    smoothness (standard error):          0.002  0.031\n",
      "    compactness (standard error):         0.002  0.135\n",
      "    concavity (standard error):           0.0    0.396\n",
      "    concave points (standard error):      0.0    0.053\n",
      "    symmetry (standard error):            0.008  0.079\n",
      "    fractal dimension (standard error):   0.001  0.03\n",
      "    radius (worst):                       7.93   36.04\n",
      "    texture (worst):                      12.02  49.54\n",
      "    perimeter (worst):                    50.41  251.2\n",
      "    area (worst):                         185.2  4254.0\n",
      "    smoothness (worst):                   0.071  0.223\n",
      "    compactness (worst):                  0.027  1.058\n",
      "    concavity (worst):                    0.0    1.252\n",
      "    concave points (worst):               0.0    0.291\n",
      "    symmetry (worst):                     0.156  0.664\n",
      "    fractal dimension (worst):            0.055  0.208\n",
      "    ===================================== ====== ======\n",
      "\n",
      "    :Missing Attribute Values: None\n",
      "\n",
      "    :Class Distribution: 212 - Malignant, 357 - Benign\n",
      "\n",
      "    :Creator:  Dr. William H. Wolberg, W. Nick Street, Olvi L. Mangasarian\n",
      "\n",
      "    :Donor: Nick Street\n",
      "\n",
      "    :Date: November, 1995\n",
      "\n",
      "This is a copy of UCI ML Breast Cancer Wisconsin (Diagnostic) datasets.\n",
      "https://goo.gl/U2Uwz2\n",
      "\n",
      "Features are computed from a digitized image of a fine needle\n",
      "aspirate (FNA) of a breast mass.  They describe\n",
      "characteristics of the cell nuclei present in the image.\n",
      "\n",
      "Separating plane described above was obtained using\n",
      "Multisurface Method-Tree (MSM-T) [K. P. Bennett, \"Decision Tree\n",
      "Construction Via Linear Programming.\" Proceedings of the 4th\n",
      "Midwest Artificial Intelligence and Cognitive Science Society,\n",
      "pp. 97-101, 1992], a classification method which uses linear\n",
      "programming to construct a decision tree.  Relevant features\n",
      "were selected using an exhaustive search in the space of 1-4\n",
      "features and 1-3 separating planes.\n",
      "\n",
      "The actual linear program used to obtain the separating plane\n",
      "in the 3-dimensional space is that described in:\n",
      "[K. P. Bennett and O. L. Mangasarian: \"Robust Linear\n",
      "Programming Discrimination of Two Linearly Inseparable Sets\",\n",
      "Optimization Methods and Software 1, 1992, 23-34].\n",
      "\n",
      "This database is also available through the UW CS ftp server:\n",
      "\n",
      "ftp ftp.cs.wisc.edu\n",
      "cd math-prog/cpo-dataset/machine-learn/WDBC/\n",
      "\n",
      ".. topic:: References\n",
      "\n",
      "   - W.N. Street, W.H. Wolberg and O.L. Mangasarian. Nuclear feature extraction \n",
      "     for breast tumor diagnosis. IS&T/SPIE 1993 International Symposium on \n",
      "     Electronic Imaging: Science and Technology, volume 1905, pages 861-870,\n",
      "     San Jose, CA, 1993.\n",
      "   - O.L. Mangasarian, W.N. Street and W.H. Wolberg. Breast cancer diagnosis and \n",
      "     prognosis via linear programming. Operations Research, 43(4), pages 570-577, \n",
      "     July-August 1995.\n",
      "   - W.H. Wolberg, W.N. Street, and O.L. Mangasarian. Machine learning techniques\n",
      "     to diagnose breast cancer from fine-needle aspirates. Cancer Letters 77 (1994) \n",
      "     163-171.\n"
     ]
    }
   ],
   "source": [
    "from sklearn import datasets\n",
    "import numpy as np\n",
    "cancer = datasets.load_breast_cancer()\n",
    "X = cancer.data\n",
    "y = cancer.target\n",
    "print('data_size:', len(X))\n",
    "print('feature_numbers:', len(X[0]))\n",
    "print('target_names:',cancer.target_names)\n",
    "print(cancer.DESCR)"
   ]
  },
  {
   "cell_type": "markdown",
   "metadata": {},
   "source": [
    "## 数据描述\n",
    "- 通过观察各个特征的数值大小，可以发现各个特征之间数量级差距较大，故而需要进行归一化处理"
   ]
  },
  {
   "cell_type": "code",
   "execution_count": 2,
   "metadata": {},
   "outputs": [
    {
     "name": "stdout",
     "output_type": "stream",
     "text": [
      "[1.799e+01 1.038e+01 1.228e+02 1.001e+03 1.184e-01 2.776e-01 3.001e-01\n",
      " 1.471e-01 2.419e-01 7.871e-02 1.095e+00 9.053e-01 8.589e+00 1.534e+02\n",
      " 6.399e-03 4.904e-02 5.373e-02 1.587e-02 3.003e-02 6.193e-03 2.538e+01\n",
      " 1.733e+01 1.846e+02 2.019e+03 1.622e-01 6.656e-01 7.119e-01 2.654e-01\n",
      " 4.601e-01 1.189e-01]\n",
      "[1.         0.52103744 0.0226581  0.54598853 0.36373277 0.59375282\n",
      " 0.7920373  0.70313964 0.73111332 0.68636364 0.60551811 0.35614702\n",
      " 0.12046941 0.3690336  0.27381126 0.15929565 0.35139844 0.13568182\n",
      " 0.30062512 0.31164518 0.18304244 0.62077552 0.14152452 0.66831017\n",
      " 0.45069799 0.60113584 0.61929156 0.56861022 0.91202749 0.59846245\n",
      " 0.41886396]\n"
     ]
    }
   ],
   "source": [
    "print(X[0])\n",
    "from sklearn.preprocessing import MinMaxScaler\n",
    "X = MinMaxScaler().fit_transform(X=X)\n",
    "X = np.pad(X, ((0,0),(1,0)), 'constant', constant_values=(1))       #为X填充x_0=1\n",
    "print(X[0])"
   ]
  },
  {
   "cell_type": "markdown",
   "metadata": {},
   "source": [
    "- 为对回归结果进行有效评估，将数据分割成训练集和测试集两部分，其中70%为训练集，30%为测试集。"
   ]
  },
  {
   "cell_type": "code",
   "execution_count": 3,
   "metadata": {},
   "outputs": [
    {
     "name": "stdout",
     "output_type": "stream",
     "text": [
      "数据集size:\n",
      " 训练集 (398, 31) (398,) \n",
      " 测试集 (171, 31) (171,)\n"
     ]
    }
   ],
   "source": [
    "from sklearn.model_selection import train_test_split\n",
    "X_train, X_test, y_train, y_test = train_test_split(X, y, test_size=0.3, random_state=2021, shuffle=True)\n",
    "print('数据集size:\\n', '训练集', X_train.shape, y_train.shape, '\\n 测试集', X_test.shape, y_test.shape)"
   ]
  },
  {
   "cell_type": "markdown",
   "metadata": {},
   "source": [
    "## 逻辑回归模型\n",
    "### 模型回归概述\n",
    "`LogisticRegression`逻辑回归是一种分类模型，常用于二分类，它假设数据服从伯努利分布。相比于`LinearRegression`引入了`Sigmoid function`以加入非线性因素，从而解决二分类问题\n",
    "### 模型推导\n",
    "#### 符号规定\n",
    "$x_j^{(i)}$表示数据集第$i$个数据的第$j$个属性取值，$y^{(i)}$表示数据集第$i$个数据的标签值，$\\hat{y}^{(i)}$表示第$i$组数据的计算预测值。数据集一共有$m$个数据，$n$种属性。\n",
    "\n",
    "矩阵形式表示，$x_i=\\begin{bmatrix}1 & x_1^{(i)} & \\cdots & x_n^{(i)}\\end{bmatrix}$，$X=\\begin{bmatrix}1 & x_1^{(1)} & \\cdots & x_n^{(1)} \\\\ 1 & x_1^{(2)} & \\cdots & x_n^{(2)} \\\\ \\cdots & \\cdots & \\cdots & \\cdots \\\\ 1 & x_1^{(m)} & \\cdots & x_n^{(m)}\\end{bmatrix}$，参数$W=\\begin{bmatrix}w_0 \\\\ w_1 \\\\ \\vdots \\\\ w_n\\end{bmatrix}$，数据集标签为$y=\\begin{bmatrix}y^{(1)} \\\\ y^{(2)} \\\\ \\vdots \\\\ y^{(m)}\\end{bmatrix}$\n",
    "\n",
    "#### 模型目标\n",
    "在二分类问题中，我们只需要一个线性判别函数$f(x; w) = w^Tx$，其中$x,w$分别为增广特征向量和增广权重向量，特征空间$\\mathbb{R}^D$中所有满足$f(x; w) = 0$ 的点组成一个分割超平面（Hyperplane），称为决策边界（Decision Boundary）或决策平面（Decision Surface）。决策边界将特征空间一分为二，划分成两个区域，每个区域对应一个类别。\n",
    "\n",
    "也即，对于给定$N$个样本的训练集$\\mathcal{D}=\\{(x^{(n)},y^{(n)})\\}_{n=1}^N$，其中$y^{(n)}\\in\\{0,1\\}$，线性模型试图学习到参数$w^*$，使得对于每个样本$(x^{(n)},y^{(n)})$尽量满足\n",
    "$$f(x^{(n)}; w^*) > \\frac{1}{2}\\qquad if\\ \\ y^{(n)} = 1\\\\f(x^{(n)}; w^*) < \\frac{1}{2}\\qquad if\\ \\ y^{(n)} = 0$$\n",
    "\n",
    "#### 理论描述\n",
    "而我们的线性模型是连续的，并不适合这种分类，所以我们需要引入非线性函数$g:\\mathbb{R}^D\\rightarrow (0,1)$来预测类别标签的后验概率$p(y=1|x)$\n",
    "$$p(y=1|x) =g(f(x;w))$$\n",
    "其中$g(\\cdot)$被称为激活函数，其作用是把线性函数的值域从实数区间挤压到了(0, 1)之间，可以用来表示概率。在`LogisticRegression`中我们使用标准`Logistic`函数作为激活函数，因而标签$y=1$的后验概率为\n",
    "$$\\begin{align*}p(y=1|x)&=\\sigma(w^Tx)\n",
    "\\\\&\\triangleq\\frac{1}{1+exp(-w^Tx)}\\end{align*}$$\n",
    "变换得到\n",
    "$$\\begin{align*}w^Tx&=ln\\frac{p(y=1|x)}{1-p(y=1|x)}\\\\&=ln\\frac{p(y=1|x)}{p(y=0|x)}\\end{align*}$$"
   ]
  },
  {
   "cell_type": "markdown",
   "metadata": {},
   "source": [
    "#### 参数学习\n",
    "在`LogisticRegression`中我们采用交叉熵作为损失函数，并使用梯度下降法对参数进行优化\n",
    "> 信息量的大小与信息发生的概率成反比，因而用来表示所有信息量的期望的信息熵在分类问题中十分有效，交叉熵可以衡量同一个随机变量中两个不同概率分布的差异程度，在机器学习中就表示为概率分布与预测概率分布之间的差异。\n",
    "\n",
    "> @ref [交叉熵损失函数原理详解](https://blog.csdn.net/b1055077005/article/details/100152102)\n",
    "\n",
    "给定$N$个训练样本$\\{(x^{(n)},y^{(n)})\\}_{n=1}^N$，用`LogisticRegression`模型对每个样本$x^{(n)}$进行预测，输出其标签为1的后验概率，记为$\\hat{y}^{(n)}$\n",
    "$$\\hat{y}^{(n)}=\\sigma(w^Tx^{(n)}),\\qquad 1\\leq n\\leq N$$\n",
    "由于$y^{(n)}\\in\\{0,1\\}$，样本$(x^{(n)},y^{(n)})$的真实条件概率可以表示为\n",
    "$$p_r(y^{(n)}=1|x^{(n)})=y^{(n)}\\\\\n",
    "p_r(y^{(n)}=0|x^{(n)})=1-y^{(n)}$$\n",
    "使用交叉熵损失函数，其风险函数为\n",
    "$$\\begin{align*}\\mathcal{R}(w)&=-\\frac{1}{N}\\sum_{n=1}^N\\left(p_r(y^{(n)}=1|x^{(n)})log\\ \\hat{y}^{(n)}+p_r(y^{(n)}=0|x^{(n)})log(1-\\hat{y}^{(n)})\\right)\\\\\n",
    "&=-\\frac{1}{N}\\sum_{n=1}^N\\left(y^{(n)}log\\ \\hat{y}^{(n)}+(1-y^{(n)})log(1-\\hat{y}^{(n)})\\right)\\end{align*}$$\n",
    "其关于参数$w$的偏导数为\n",
    "$$\\begin{align*}\n",
    "\\frac{\\partial \\mathcal R(w)}{\\partial w}\n",
    "&=-\\frac{1}{N}\\sum_{n=1}^N\\left(y^{(n)}\\frac{\\hat{y}^{(n)}(1-\\hat{y}^{(n)})}{\\hat{y}^{(n)}}x^{(n)}-(1-y^{(n)})\\frac{\\hat{y}^{(n)}(1-\\hat{y}^{(n)})}{1-\\hat{y}^{(n)}}x^{(n)}\\right)\\\\\n",
    "&=-\\frac{1}{N}\\sum_{n=1}^N\\left(y^{(n)}(1-\\hat{y}^{(n)})x^{(n)}-(1-y^{(n)})\\hat{y}^{(n)}x^{(n)}\\right)\\\\\n",
    "&=-\\frac{1}{N}\\sum_{n=1}^Nx^{(n)}(y^{(n)}-\\hat{y}^{(n)})\n",
    "\\end{align*}$$\n",
    "采用梯度下降法，`LogisticRegression`的训练过程为:初始化$w\\leftarrow 0$，然后通过下式来迭代更新参数:\n",
    "$$w_{t+1}\\leftarrow w_t+\\alpha\\frac{1}{N}\\sum_{n=1}^Nx^{(n)}(y^{(n)}-\\hat{y}^{(n)}_{w_t})$$\n",
    "其中$\\alpha$为学习率，$\\hat{y}^{(n)}_{w_t}$为当参数为$w_t$时，`LogisticRegression`模型的输出"
   ]
  },
  {
   "cell_type": "markdown",
   "metadata": {},
   "source": [
    "### 模型实现"
   ]
  },
  {
   "cell_type": "markdown",
   "metadata": {},
   "source": [
    "\n",
    "#### 超参类"
   ]
  },
  {
   "cell_type": "code",
   "execution_count": 4,
   "metadata": {},
   "outputs": [],
   "source": [
    "class Hyperameters():\n",
    "    def __init__(self, feature_dimension, data_size, alpha=0.99, max_epoch=1000, eps=0.0001):\n",
    "        self.feature_dimension = feature_dimension\n",
    "        self.data_size = data_size\n",
    "        self.alpha = alpha\n",
    "        self.max_epoch = max_epoch\n",
    "        self.eps = eps\n",
    "    \n",
    "    def toString(self):\n",
    "        return str.format(\"feature_dimension:{0}, data_size:{1}\\nalpha:{3}, max_epoch:{4}\", self.feature_dimension, self.data_size, self.alpha, self.max_epoch)"
   ]
  },
  {
   "cell_type": "markdown",
   "metadata": {},
   "source": [
    "#### 逻辑回归类"
   ]
  },
  {
   "cell_type": "code",
   "execution_count": 5,
   "metadata": {},
   "outputs": [],
   "source": [
    "class LogisticRegression():\n",
    "    def __init__(self, hp):\n",
    "        \"\"\"Initialize variable matrix W\n",
    "\n",
    "        Args:\n",
    "            hp (Hyperameter)\n",
    "        \"\"\"\n",
    "        self.hp = hp\n",
    "        self.W = np.zeros((self.hp.feature_dimension, ))\n",
    "        return\n",
    "\n",
    "    def cal_loss(self, X, y):\n",
    "        \"\"\"calculate the loss function using input matrix X and vector y\n",
    "\n",
    "        Args:\n",
    "            X (numpy.array((sample_number, feature_dimension))): matrix X\n",
    "            y (numpy.array((feature_dimension, ))): vector y\n",
    "\n",
    "        Returns:\n",
    "            [float]: the loss of the training data\n",
    "            [numpy.array]: delta W\n",
    "        \"\"\"\n",
    "\n",
    "        m = X.shape[0]\n",
    "        y_hat = self.predict(X)\n",
    "        loss = np.sum((y*np.log(y_hat)+(1-y)*np.log(1-y_hat)))\n",
    "        loss = - loss / m\n",
    "        dw = - np.dot(X.T, (y - y_hat)) / m\n",
    "        return loss, dw\n",
    "\n",
    "    def train(self, X, y, loss_print=False, early_termination=True):\n",
    "        \"\"\"Use input matrix X and vector y to train the model.\n",
    "\n",
    "        Args:\n",
    "            X (numpy.array((sample_number, feature_dimension))): matrix X\n",
    "            y (numpy.array((feature_dimension, ))): vector y\n",
    "            learning_rate (float, optional): learning rate(may also called alpha). Defaults to 0.99.\n",
    "            iteration (int, optional): Number of iterations. Defaults to 1000.\n",
    "            loss_print (bool, optional): True if want to print the loss. Defaults to False.\n",
    "        \"\"\"\n",
    "        loss, dw = 0, 0\n",
    "        history = []\n",
    "        epoch_count = 0\n",
    "        pre_loss = 0\n",
    "        for _ in range(self.hp.max_epoch):\n",
    "            epoch_count += 1\n",
    "            pre_loss = loss\n",
    "            loss, dw = self.cal_loss(X, y)\n",
    "            self.W = self.W - self.hp.alpha * dw\n",
    "            history.append(loss)\n",
    "            if early_termination and  np.abs(pre_loss - loss) < self.hp.eps:\n",
    "                break\n",
    "\n",
    "        if loss_print:\n",
    "            import matplotlib.pyplot as plt\n",
    "            plt.plot(range(epoch_count+1)[1:], history)\n",
    "            plt.xlabel('iteration')\n",
    "            plt.ylabel('loss')\n",
    "            plt.show()\n",
    "        return history, epoch_count        \n",
    "\n",
    "\n",
    "    def predict(self, X):\n",
    "        \"\"\"Use variable matriX W to predict the label result\n",
    "\n",
    "        Args:\n",
    "            X (numpy.array((test_sample, feature_dimension))): the input matrix X\n",
    "\n",
    "        Returns:\n",
    "            [float]: the prediction of the label result.\n",
    "        \"\"\"\n",
    "        return 1/(1 + np.exp(-X.dot(self.W)))"
   ]
  },
  {
   "cell_type": "markdown",
   "metadata": {},
   "source": [
    "### 模型结果\n",
    "利用训练出的模型对测试集中的数据进行预测，若预测值超过0.5则认为为标签1，否则为标签0，根据预测正确的数量比上总测试数据数量得到正确率。\n",
    "分别用分割训练集和kFold算法方式进行检验。"
   ]
  },
  {
   "cell_type": "code",
   "execution_count": 6,
   "metadata": {},
   "outputs": [
    {
     "data": {
      "image/png": "[encoded data removed]",
      "text/plain": [
       "<Figure size 432x288 with 1 Axes>"
      ]
     },
     "metadata": {
      "needs_background": "light"
     },
     "output_type": "display_data"
    },
    {
     "name": "stdout",
     "output_type": "stream",
     "text": [
      "Logistic regression with 2424 iterations test score: 0.9649\n",
      "Logistic regression with kFold algorithm get score: 0.9842\n"
     ]
    }
   ],
   "source": [
    "def score(test_result, y_test):\n",
    "    counter = 0\n",
    "    acc = 0\n",
    "    for (pred_label, true_label) in zip(test_result, y_test):\n",
    "        counter += 1\n",
    "        if pred_label == true_label:\n",
    "            acc += 1\n",
    "    return acc/counter\n",
    "\n",
    "from sklearn.model_selection import KFold\n",
    "def score_with_kfold(X, y, model):\n",
    "    kf = KFold(n_splits=10, shuffle=True, random_state=2021)\n",
    "    scores = []\n",
    "    for train_index, test_index in kf.split(X):\n",
    "        X_train = X[train_index]\n",
    "        y_train = y[train_index]\n",
    "        X_test = X[test_index]\n",
    "        y_test = y[test_index]\n",
    "        model.train(X_train, y_train)\n",
    "        test_result = model.predict(X_test).round()\n",
    "        scores.append(score(test_result, y_test))\n",
    "    return np.mean(scores)\n",
    "\n",
    "hp = Hyperameters(X_train.shape[1], X_test.shape[0], alpha=0.9, max_epoch=10000, eps=0.00001)\n",
    "lr = LogisticRegression(hp)\n",
    "_, epoch_count = lr.train(X_train, y_train, loss_print=True)\n",
    "test_result = lr.predict(X_test).round()\n",
    "print('Logistic regression with %d iterations test score: %.4f' % (epoch_count, score(test_result, y_test)))\n",
    "kfold_lr = LogisticRegression(hp)\n",
    "print('Logistic regression with kFold algorithm get score: %.4f' % score_with_kfold(X, y, kfold_lr))\n"
   ]
  },
  {
   "cell_type": "markdown",
   "metadata": {},
   "source": [
    "### 模型调参\n",
    "接下来我们通过调参比较正确率的方式找到合适的超参"
   ]
  },
  {
   "cell_type": "code",
   "execution_count": 7,
   "metadata": {},
   "outputs": [],
   "source": [
    "import matplotlib.pyplot as plt\n",
    "hp_list = []\n",
    "np.random.seed(2021)\n",
    "rand_alpha = np.random.rand(50)\n",
    "scores = []\n",
    "for item in rand_alpha:\n",
    "    hp_list.append(Hyperameters(X_train.shape[1], X_test.shape[0], alpha=item, max_epoch=1000))\n",
    "for alpha, item in zip(rand_alpha, hp_list):\n",
    "    lr = LogisticRegression(item)\n",
    "    _, epoch_count = lr.train(X_train, y_train, loss_print=False, early_termination=False)\n",
    "    test_result = lr.predict(X_test).round()\n",
    "    scores.append(score(test_result, y_test))\n",
    "    # print('Logistic regression with %d iterations using learning rate %.4f gets test score: %.4f' % (epoch_count, alpha, score(test_result, y_test)))\n",
    "    "
   ]
  },
  {
   "cell_type": "code",
   "execution_count": 8,
   "metadata": {},
   "outputs": [
    {
     "data": {
      "image/png": "[encoded data removed]",
      "text/plain": [
       "<Figure size 432x288 with 1 Axes>"
      ]
     },
     "metadata": {
      "needs_background": "light"
     },
     "output_type": "display_data"
    }
   ],
   "source": [
    "sorted_alpha, sorted_scores = (list(t) for t in zip(*sorted(zip(rand_alpha, scores), reverse=False)))\n",
    "plt.xlabel('alpha')\n",
    "plt.ylabel('accuracy')\n",
    "plt.title('iteration=1000, No Early Termination')\n",
    "plt.plot(sorted_alpha, sorted_scores)\n",
    "plt.show()"
   ]
  },
  {
   "cell_type": "markdown",
   "metadata": {},
   "source": [
    "由此可以看到应让学习率为接近1的值，在之后的讨论中会使用0.9的学习率。接下来再考察不同迭代次数的影响，此处会禁用提前终止。"
   ]
  },
  {
   "cell_type": "code",
   "execution_count": 9,
   "metadata": {},
   "outputs": [],
   "source": [
    "hp_list = []\n",
    "scores = []\n",
    "epoch_list = [10, 20, 50, 100, 200, 500, 1000, 2000, 5000, 10000]\n",
    "for item in epoch_list:\n",
    "    hp_list.append(Hyperameters(X_train.shape[1], X_test.shape[0], alpha=0.9, max_epoch=item))\n",
    "for epoch, item in zip(epoch_list, hp_list):\n",
    "    lr = LogisticRegression(item)\n",
    "    _, epoch_count = lr.train(X_train, y_train, loss_print=False, early_termination=False)\n",
    "    test_result = lr.predict(X_test).round()\n",
    "    scores.append(score(test_result, y_test))"
   ]
  },
  {
   "cell_type": "code",
   "execution_count": 10,
   "metadata": {},
   "outputs": [
    {
     "data": {
      "image/png": "[encoded data removed]",
      "text/plain": [
       "<Figure size 432x288 with 1 Axes>"
      ]
     },
     "metadata": {
      "needs_background": "light"
     },
     "output_type": "display_data"
    }
   ],
   "source": [
    "plt.xlabel('iteration')\n",
    "plt.ylabel('accuracy')\n",
    "plt.title('alpha=0.9, No Early Termination')\n",
    "plt.plot(epoch_list, scores)\n",
    "plt.show()"
   ]
  },
  {
   "cell_type": "markdown",
   "metadata": {},
   "source": [
    "由此可以看出迭代次数在2000-6000时有较好的效果，迭代次数太多也并不好，可能会出现过拟合而导致准确率下降。"
   ]
  },
  {
   "cell_type": "markdown",
   "metadata": {},
   "source": [
    "### 模型优化\n",
    "与`LinearRegression`类似，`LogisticRegression`也可以通过引入$L1,L2$正则化进行优化，从而降低过拟合的概率，使得结果更可信。\n",
    "#### $L1$正则化实现"
   ]
  },
  {
   "cell_type": "code",
   "execution_count": 11,
   "metadata": {},
   "outputs": [],
   "source": [
    "class LogisticRegressionL1(LogisticRegression):\n",
    "    def __init__(self, hp, lambdaI):\n",
    "        super().__init__(hp)\n",
    "        self.lambdaI = lambdaI\n",
    "\n",
    "    def cal_loss(self, X, y):\n",
    "        loss, dw =  super().cal_loss(X, y)\n",
    "        l = self.lambdaI\n",
    "        w = self.W\n",
    "        loss += l * np.sum(np.power(w, 2))\n",
    "        dw += 2 * l * w\n",
    "        return loss, dw"
   ]
  },
  {
   "cell_type": "markdown",
   "metadata": {},
   "source": [
    "#### $L2$正则化实现"
   ]
  },
  {
   "cell_type": "code",
   "execution_count": 12,
   "metadata": {},
   "outputs": [],
   "source": [
    "class LogisticRegressionL2(LogisticRegression):\n",
    "    def __init__(self, hp, lambdaI):\n",
    "        super().__init__(hp)\n",
    "        self.lambdaI = lambdaI\n",
    "\n",
    "    def cal_loss(self, X, y):\n",
    "        loss, dw =  super().cal_loss(X, y)\n",
    "        l = self.lambdaI\n",
    "        w = self.W\n",
    "        dw += l*(len(w)-len(w[w < 0]))\n",
    "        return loss, dw"
   ]
  },
  {
   "cell_type": "markdown",
   "metadata": {},
   "source": [
    "#### 优化结果"
   ]
  },
  {
   "cell_type": "code",
   "execution_count": 13,
   "metadata": {},
   "outputs": [
    {
     "data": {
      "image/png": "[encoded data removed]",
      "text/plain": [
       "<Figure size 432x288 with 1 Axes>"
      ]
     },
     "metadata": {
      "needs_background": "light"
     },
     "output_type": "display_data"
    },
    {
     "name": "stdout",
     "output_type": "stream",
     "text": [
      "Logistic regression with L1 normalization with 452 iterations test score: 0.9415\n"
     ]
    },
    {
     "data": {
      "image/png": "[encoded data removed]",
      "text/plain": [
       "<Figure size 432x288 with 1 Axes>"
      ]
     },
     "metadata": {
      "needs_background": "light"
     },
     "output_type": "display_data"
    },
    {
     "name": "stdout",
     "output_type": "stream",
     "text": [
      "Logistic regression with L2 normalization with 1522 iterations test score: 0.9649\n",
      "Logistic regression with L1 normalization with kFold algorithm get score: 0.9596\n",
      "Logistic regression with L2 normalization with kFold algorithm get score: 0.9666\n"
     ]
    }
   ],
   "source": [
    "hp = Hyperameters(X_train.shape[1], X_test.shape[0], alpha=0.9, max_epoch=10000, eps=0.00001)\n",
    "lr_l1 = LogisticRegressionL1(hp, lambdaI=0.001)\n",
    "lr_l2 = LogisticRegressionL2(hp, lambdaI=0.001)\n",
    "_, epoch_count = lr_l1.train(X_train, y_train, loss_print=True)\n",
    "test_result = lr_l1.predict(X_test).round()\n",
    "print('Logistic regression with L1 normalization with %d iterations test score: %.4f' % (epoch_count, score(test_result, y_test)))\n",
    "_, epoch_count = lr_l2.train(X_train, y_train, loss_print=True)\n",
    "test_result = lr_l2.predict(X_test).round()\n",
    "print('Logistic regression with L2 normalization with %d iterations test score: %.4f' % (epoch_count, score(test_result, y_test)))\n",
    "kfold_lr_l1 = LogisticRegressionL1(hp, lambdaI=0.001)\n",
    "print('Logistic regression with L1 normalization with kFold algorithm get score: %.4f' % score_with_kfold(X, y, kfold_lr_l1))\n",
    "kfold_lr_l2 = LogisticRegressionL2(hp, lambdaI=0.001)\n",
    "print('Logistic regression with L2 normalization with kFold algorithm get score: %.4f' % score_with_kfold(X, y, kfold_lr_l2))"
   ]
  },
  {
   "cell_type": "code",
   "execution_count": 14,
   "metadata": {},
   "outputs": [
    {
     "data": {
      "image/png": "[encoded data removed]",
      "text/plain": [
       "<Figure size 432x288 with 1 Axes>"
      ]
     },
     "metadata": {
      "needs_background": "light"
     },
     "output_type": "display_data"
    }
   ],
   "source": [
    "lambda_list = [0.01, 0.005, 0.002, 0.001, 0.0005, 0.0001]\n",
    "scores_l1 = []\n",
    "scores_l2 = []\n",
    "hp = Hyperameters(X_train.shape[1], X_test.shape[0], alpha=0.9, max_epoch=10000)\n",
    "for item in lambda_list:\n",
    "    lr_l1 = LogisticRegressionL1(hp, item)\n",
    "    lr_l2 = LogisticRegressionL2(hp, item)\n",
    "    _, epoch_count_l1 = lr_l1.train(X_train, y_train, loss_print=False, early_termination=True)\n",
    "    _, epoch_count_l2 = lr_l2.train(X_train, y_train, loss_print=False, early_termination=True)\n",
    "    test_result = lr_l1.predict(X_test).round()\n",
    "    scores_l1.append(score(test_result, y_test))\n",
    "    test_result = lr_l2.predict(X_test).round()\n",
    "    scores_l2.append(score(test_result, y_test))\n",
    "\n",
    "plt.xlabel('iteration')\n",
    "plt.ylabel('accuracy')\n",
    "plt.title('alpha=0.9, No Early Termination')\n",
    "plt.plot(lambda_list, scores_l1, label='L1 Normalization')\n",
    "plt.plot(lambda_list, scores_l2, label='L2 Normalization')\n",
    "plt.legend()\n",
    "plt.show()"
   ]
  },
  {
   "cell_type": "markdown",
   "metadata": {},
   "source": [
    "可以看出，在加入正则化后，模型经过更少的迭代次数即可达到较稳定的`loss`值，这表明模型更加稳定了。并且加入两种正则化后仍保持了极高的准确率，在学习率很小时$L2$正则化的准确率略高于$L1$正则化。"
   ]
  },
  {
   "cell_type": "markdown",
   "metadata": {},
   "source": [
    "## 总结\n",
    "通过训练逻辑回归模型，对`breast_cancer`数据集进行了性能优秀的二分类。通过为防止过拟合问题，采用了归一化的方式进行数据预处理，引入$L1,L2$正则化以使模型更稳定，通过提前终止的方式提前结束迭代防止过拟合。并通过控制变量考察了各个超参的最佳选取范围。最终分类的准确率达到0.96左右。"
   ]
  }
 ],
 "metadata": {
  "interpreter": {
   "hash": "418a6164670b5d92bf37129a5a6635874e0387e34e155382adfe91ece8a749ee"
  },
  "kernelspec": {
   "display_name": "Python 3 (ipykernel)",
   "language": "python",
   "name": "python3"
  },
  "language_info": {
   "codemirror_mode": {
    "name": "ipython",
    "version": 3
   },
   "file_extension": ".py",
   "mimetype": "text/x-python",
   "name": "python",
   "nbconvert_exporter": "python",
   "pygments_lexer": "ipython3",
   "version": "3.9.2"
  }
 },
 "nbformat": 4,
 "nbformat_minor": 2
}
