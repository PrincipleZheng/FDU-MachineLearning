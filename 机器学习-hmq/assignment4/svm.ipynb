{
 "cells": [
  {
   "cell_type": "markdown",
   "metadata": {},
   "source": [
    "# Machine Learning: Assignment 3\n",
    "**黄绵秋 19307130142**"
   ]
  },
  {
   "cell_type": "markdown",
   "metadata": {},
   "source": [
    "## 任务描述\n",
    "- 实现支持向量机`SVM`\n",
    "- 通过`SVM`对`breast_cancer`数据集进行预测"
   ]
  },
  {
   "cell_type": "markdown",
   "metadata": {},
   "source": [
    "## 数据描述\n",
    "- `breast_cancer`数据集一共包含569组数据，按照恶性`malignant`和良性`benign`分为两类，分别被标注为0和1，每组数据包含30个特征\n",
    "- 将特征数据和标签数据分别从`sklearn.datasets`中导出到变量`X,y`中\n",
    "- `breast_cancer`数据集的一些信息如下"
   ]
  },
  {
   "cell_type": "code",
   "execution_count": 10,
   "metadata": {},
   "outputs": [
    {
     "name": "stdout",
     "output_type": "stream",
     "text": [
      "data_size: 569\n",
      "feature_numbers: 30\n",
      "target_names: ['malignant' 'benign']\n",
      ".. _breast_cancer_dataset:\n",
      "\n",
      "Breast cancer wisconsin (diagnostic) dataset\n",
      "--------------------------------------------\n",
      "\n",
      "**Data Set Characteristics:**\n",
      "\n",
      "    :Number of Instances: 569\n",
      "\n",
      "    :Number of Attributes: 30 numeric, predictive attributes and the class\n",
      "\n",
      "    :Attribute Information:\n",
      "        - radius (mean of distances from center to points on the perimeter)\n",
      "        - texture (standard deviation of gray-scale values)\n",
      "        - perimeter\n",
      "        - area\n",
      "        - smoothness (local variation in radius lengths)\n",
      "        - compactness (perimeter^2 / area - 1.0)\n",
      "        - concavity (severity of concave portions of the contour)\n",
      "        - concave points (number of concave portions of the contour)\n",
      "        - symmetry\n",
      "        - fractal dimension (\"coastline approximation\" - 1)\n",
      "\n",
      "        The mean, standard error, and \"worst\" or largest (mean of the three\n",
      "        worst/largest values) of these features were computed for each image,\n",
      "        resulting in 30 features.  For instance, field 0 is Mean Radius, field\n",
      "        10 is Radius SE, field 20 is Worst Radius.\n",
      "\n",
      "        - class:\n",
      "                - WDBC-Malignant\n",
      "                - WDBC-Benign\n",
      "\n",
      "    :Summary Statistics:\n",
      "\n",
      "    ===================================== ====== ======\n",
      "                                           Min    Max\n",
      "    ===================================== ====== ======\n",
      "    radius (mean):                        6.981  28.11\n",
      "    texture (mean):                       9.71   39.28\n",
      "    perimeter (mean):                     43.79  188.5\n",
      "    area (mean):                          143.5  2501.0\n",
      "    smoothness (mean):                    0.053  0.163\n",
      "    compactness (mean):                   0.019  0.345\n",
      "    concavity (mean):                     0.0    0.427\n",
      "    concave points (mean):                0.0    0.201\n",
      "    symmetry (mean):                      0.106  0.304\n",
      "    fractal dimension (mean):             0.05   0.097\n",
      "    radius (standard error):              0.112  2.873\n",
      "    texture (standard error):             0.36   4.885\n",
      "    perimeter (standard error):           0.757  21.98\n",
      "    area (standard error):                6.802  542.2\n",
      "    smoothness (standard error):          0.002  0.031\n",
      "    compactness (standard error):         0.002  0.135\n",
      "    concavity (standard error):           0.0    0.396\n",
      "    concave points (standard error):      0.0    0.053\n",
      "    symmetry (standard error):            0.008  0.079\n",
      "    fractal dimension (standard error):   0.001  0.03\n",
      "    radius (worst):                       7.93   36.04\n",
      "    texture (worst):                      12.02  49.54\n",
      "    perimeter (worst):                    50.41  251.2\n",
      "    area (worst):                         185.2  4254.0\n",
      "    smoothness (worst):                   0.071  0.223\n",
      "    compactness (worst):                  0.027  1.058\n",
      "    concavity (worst):                    0.0    1.252\n",
      "    concave points (worst):               0.0    0.291\n",
      "    symmetry (worst):                     0.156  0.664\n",
      "    fractal dimension (worst):            0.055  0.208\n",
      "    ===================================== ====== ======\n",
      "\n",
      "    :Missing Attribute Values: None\n",
      "\n",
      "    :Class Distribution: 212 - Malignant, 357 - Benign\n",
      "\n",
      "    :Creator:  Dr. William H. Wolberg, W. Nick Street, Olvi L. Mangasarian\n",
      "\n",
      "    :Donor: Nick Street\n",
      "\n",
      "    :Date: November, 1995\n",
      "\n",
      "This is a copy of UCI ML Breast Cancer Wisconsin (Diagnostic) datasets.\n",
      "https://goo.gl/U2Uwz2\n",
      "\n",
      "Features are computed from a digitized image of a fine needle\n",
      "aspirate (FNA) of a breast mass.  They describe\n",
      "characteristics of the cell nuclei present in the image.\n",
      "\n",
      "Separating plane described above was obtained using\n",
      "Multisurface Method-Tree (MSM-T) [K. P. Bennett, \"Decision Tree\n",
      "Construction Via Linear Programming.\" Proceedings of the 4th\n",
      "Midwest Artificial Intelligence and Cognitive Science Society,\n",
      "pp. 97-101, 1992], a classification method which uses linear\n",
      "programming to construct a decision tree.  Relevant features\n",
      "were selected using an exhaustive search in the space of 1-4\n",
      "features and 1-3 separating planes.\n",
      "\n",
      "The actual linear program used to obtain the separating plane\n",
      "in the 3-dimensional space is that described in:\n",
      "[K. P. Bennett and O. L. Mangasarian: \"Robust Linear\n",
      "Programming Discrimination of Two Linearly Inseparable Sets\",\n",
      "Optimization Methods and Software 1, 1992, 23-34].\n",
      "\n",
      "This database is also available through the UW CS ftp server:\n",
      "\n",
      "ftp ftp.cs.wisc.edu\n",
      "cd math-prog/cpo-dataset/machine-learn/WDBC/\n",
      "\n",
      ".. topic:: References\n",
      "\n",
      "   - W.N. Street, W.H. Wolberg and O.L. Mangasarian. Nuclear feature extraction \n",
      "     for breast tumor diagnosis. IS&T/SPIE 1993 International Symposium on \n",
      "     Electronic Imaging: Science and Technology, volume 1905, pages 861-870,\n",
      "     San Jose, CA, 1993.\n",
      "   - O.L. Mangasarian, W.N. Street and W.H. Wolberg. Breast cancer diagnosis and \n",
      "     prognosis via linear programming. Operations Research, 43(4), pages 570-577, \n",
      "     July-August 1995.\n",
      "   - W.H. Wolberg, W.N. Street, and O.L. Mangasarian. Machine learning techniques\n",
      "     to diagnose breast cancer from fine-needle aspirates. Cancer Letters 77 (1994) \n",
      "     163-171.\n"
     ]
    }
   ],
   "source": [
    "from sklearn import datasets\n",
    "import numpy as np\n",
    "cancer = datasets.load_breast_cancer()\n",
    "X = cancer.data\n",
    "y = cancer.target\n",
    "print('data_size:', len(X))\n",
    "print('feature_numbers:', len(X[0]))\n",
    "print('target_names:',cancer.target_names)\n",
    "print(cancer.DESCR)"
   ]
  },
  {
   "cell_type": "markdown",
   "metadata": {},
   "source": [
    "## 数据描述\n",
    "- 通过观察各个特征的数值大小，可以发现各个特征之间数量级差距较大，故而需要进行归一化处理"
   ]
  },
  {
   "cell_type": "code",
   "execution_count": null,
   "metadata": {},
   "outputs": [],
   "source": []
  },
  {
   "cell_type": "markdown",
   "metadata": {},
   "source": [
    "- 为对回归结果进行有效评估，将数据分割成训练集和测试集两部分，其中70%为训练集，30%为测试集。"
   ]
  },
  {
   "cell_type": "code",
   "execution_count": 11,
   "metadata": {},
   "outputs": [
    {
     "name": "stdout",
     "output_type": "stream",
     "text": [
      "数据集size:\n",
      " 训练集 (398, 30) (398,) \n",
      " 测试集 (171, 30) (171,)\n"
     ]
    }
   ],
   "source": [
    "from sklearn.model_selection import train_test_split\n",
    "X_train, X_test, y_train, y_test = train_test_split(X, y, test_size=0.3, random_state=2021, shuffle=True)\n",
    "print('数据集size:\\n', '训练集', X_train.shape, y_train.shape, '\\n 测试集', X_test.shape, y_test.shape)"
   ]
  },
  {
   "cell_type": "markdown",
   "metadata": {},
   "source": [
    "## `SVM`模型\n",
    "### `SVM`模型概述\n",
    "支持向量机（`SVM`）是一种二分类模型，它的基本模型是定义在特征空间上的间隔最大的线性分类器，间隔最大使它有别于感知机；SVM还包括核技巧，这使它成为实质上的非线性分类器。SVM的的学习策略就是间隔最大化，可形式化为一个求解凸二次规划的问题，也等价于正则化的合页损失函数的最小化问题。SVM的的学习算法就是求解凸二次规划的最优化算法。"
   ]
  },
  {
   "cell_type": "markdown",
   "metadata": {},
   "source": [
    "### 模型推导\n",
    "#### 符号规定\n",
    "$x_j^{(i)}$表示数据集第$i$个数据的第$j$个属性取值，$y^{(i)}$表示数据集第$i$个数据的标签值，$\\hat{y}^{(i)}$表示第$i$组数据的计算预测值。数据集一共有$m$个数据，$n$种属性。\n",
    "\n",
    "矩阵形式表示，$x_i=\\begin{bmatrix}x_1^{(i)} & x_2^{(i)} & \\cdots & x_n^{(i)}\\end{bmatrix}$，$X=\\begin{bmatrix}x_1^{(1)} & x_2^{(1)} & \\cdots & x_n^{(1)} \\\\ x_1^{(2)} & x_2^{(2)} & \\cdots & x_n^{(2)} \\\\ \\cdots & \\cdots & \\cdots & \\cdots \\\\ x_1^{(m)} & x_2^{(m)} & \\cdots & x_n^{(m)}\\end{bmatrix}$，参数$W=\\begin{bmatrix}w_1 \\\\ w_2 \\\\ \\vdots \\\\ w_n\\end{bmatrix}$，数据集标签为$y=\\begin{bmatrix}y^{(1)} \\\\ y^{(2)} \\\\ \\vdots \\\\ y^{(m)}\\end{bmatrix}$"
   ]
  },
  {
   "cell_type": "markdown",
   "metadata": {},
   "source": [
    "#### 模型目标\n",
    "给定一个二分类器数据集 $\\mathcal D=\\{(x^(n), y^(n))\\}_{n=1}^N$，其中$y^(n)\\in\\{-1,1\\}$如果两类样本是线性可分的，即存在一个超平面$w^T+b=0$将两类样本分开，那么对于每个样本都有$y^{(n)}(w^Tx+b)>0$\n",
    "\n",
    "数据集$\\mathcal D$中每个样本$x^{(n)}$到分割超平面的距离为\n",
    "$$\\gamma^{(n)}=\\frac{|w^Tx^{(n)}+b|}{||w||}=\\frac{y^{(n)}(w^Tx+b)>0}{||w||}$$\n",
    "我们定义**间隔**$\\gamma$为整个数据集$\\mathcal D$中所有样本到分割超平面的最短距离（$\\gamma=\\min\\limits_n \\gamma^{(n)}$.如果间隔$\\gamma$越大，其分割超平面对两个数据集的划分越稳定，不容易受噪声等因素影响。**支持向量机的目标是寻找一个超平面 $(𝒘^*, 𝑏^* )$ 使得 𝛾 最大**，即\n",
    "$$\\max\\limits_{w,b}\\gamma\\qquad s.t. \\quad\\frac{y^{(n)}(w^Tx^{(n)}+b)>0}{||w||}\\geq\\gamma, \\quad\\forall n\\in\\{1,2,\\cdots,N\\}$$\n",
    "由于同时缩放$w\\rightarrow kw$和$b\\rightarrow kb$不会改变样本$x^{(n)}$到分割超平面的距离，我们可以限制$||w||\\cdot y=1$，则公式上式等价于\n",
    "$$\\max\\limits_{w,b}\\frac{1}{||w||^2}\\qquad s.t. \\quad y^{(n)}(w^Tx^{(n)}+b)\\geq 1, \\quad\\forall n\\in\\{1,2,\\cdots,N\\}$$"
   ]
  },
  {
   "cell_type": "markdown",
   "metadata": {},
   "source": [
    "#### 理论推导\n",
    "为了找到最大间隔分割超平面，将上一部分公式的目标函数写为凸优化问题\n",
    "$$\\max\\limits_{w,b}\\frac{1}{||w||^2}\\qquad s.t. \\quad 1-y^{(n)}(w^Tx^{(n)}+b)\\leq 0, \\quad\\forall n\\in\\{1,2,\\cdots,N\\}$$\n",
    "使用拉格朗日数乘法，其拉格朗日函数为\n",
    "$$L(w,b,\\alpha)=\\frac{1}{2}||w||^2+\\sum_{n=1}^N \\alpha_n\\left(1-y^{(n)}(w^Tx^{(n)}+b)\\right)$$\n",
    "其中$\\alpha_i\\geq 0$为拉格朗日乘数。计算$L(w,b,\\alpha)$的导数，并令其等于0，得到\n",
    "$$w=\\sum_{n=1}^N\\alpha_ny^{(n)}x^{(n)}\\\\0=\\sum_{n=1}^N\\alpha_ny^{(n)}$$\n",
    "代入$L(w,b,\\alpha)$，得到拉格朗日对偶函数\n",
    "$$\\Gamma(\\alpha)=-\\frac{1}{2}\\sum_{n=1}^N\\sum_{m=1}^N\\alpha_m\\alpha_ny^{(m)}y^{(n)}\\left(x^{(m)}\\right)^Tx^{(n)}+\\sum_{n=1}^N\\alpha_n$$\n",
    "支持向量机的主优化问题为凸优化问题，满足强对偶性，即主优化问题可以通过最大化对偶函数$\\max\\limits_{\\alpha\\geq 0}\\Gamma(\\alpha)$来求解。对偶函数$\\Gamma(\\alpha)$是一个凹函数，因此最大化对偶函数是一个凸优化问题，可以通过多种凸优化方法来进行求解，得到拉格朗日乘数的最优值$\\alpha^*$．\n",
    "\n",
    "根据[KKT条件](https://en.wikipedia.org/wiki/Karush%E2%80%93Kuhn%E2%80%93Tucker_conditions#Regularity_conditions_(or_constraint_qualifications))中的互补松弛条件，最优解满足$\\alpha_n^*\\left(1-y^{(n)}((w^*)^Tx^{(n)}+b^*)\\right)=0$。如果样本$x^{(n)}$不在约束边界上，$\\alpha_n^*=0$，其约束失效；如果样本$x^{(n)}$在约束边界上，$\\alpha_n^*\\geq 0$。这些在约束边界上的样本点称为**支持向量**，即离决策平面距离最近的点。但上述目标函数是存在假设数据完全线性可分的，但事实上我们的数据往往并不如此，所以我们会引入`松弛变量`，来允许部分数据点处于超平面的错误的一侧。这样我们的优化目标就能保持不变，但约束条件变为$0\\leq\\alpha_n\\leq C$，其中参数$C>0$用来控制间隔和松弛变量惩罚的平衡。"
   ]
  },
  {
   "cell_type": "markdown",
   "metadata": {},
   "source": [
    "#### 参数学习\n",
    "首先利用凸优化算法计算出$\\alpha^*$由于其约束条件的数量为训练样本数量，一般的优化方法代价比较高，因此在实践中通常采用比较高效的优化方法，比如序列最小优化（Sequential Minimal Optimization，SMO）算法。在算出$\\alpha^*$之后由$w=\\sum_{n=1}^N\\alpha_ny^{(n)}x^{(n)}$计算出最优权重$w^*$，最优偏置$b^*$可以通过任选一个支持向量$(\\tilde{x},\\tilde{y})$计算得到$b^*=\\tilde{y}-(w^*)^T\\tilde{x}$，但实际的做法会是更具鲁棒性的$b^*=\\frac{1}{N}\\sum_{n=1}^{N}(y^{(n)}-(w^*)^Tx^{(n)})$"
   ]
  },
  {
   "cell_type": "markdown",
   "metadata": {},
   "source": [
    "#### 核函数\n",
    "以上讨论的都是在线性可分情况进行讨论的，但是实际问题中给出的数据并不是都是线性可分的，而非线性可分的数据没法直接分出决策平面。但对于低维平面内不可分的数据，放在一个高维空间中去就有可能变得可分。以二维平面的数据为例，我们可以通过找到一个映射将二维平面的点放到三维平面之中。理论上任意的数据样本都能够找到一个合适的映射使得这些在低维空间不能划分的样本到高维空间中之后能够线性可分。我们再来看一下之前的目标函数：\n",
    "$$\\Gamma(\\alpha)=-\\frac{1}{2}\\sum_{n=1}^N\\sum_{m=1}^N\\alpha_m\\alpha_ny^{(m)}y^{(n)}\\left(x^{(m)}\\right)^Tx^{(n)}+\\sum_{n=1}^N\\alpha_n$$\n",
    "而在引入核函数后，将特征向量映射到高维空间中，上述对偶问题变为如下形式：\n",
    "$$\\Gamma(\\alpha)=-\\frac{1}{2}\\sum_{n=1}^N\\sum_{m=1}^N\\alpha_m\\alpha_ny^{(m)}y^{(n)}k(x^{(m)},x^{(n)})+\\sum_{n=1}^N\\alpha_n$$\n",
    "其中$k(x^{(m)},x^{(n)})$为核函数"
   ]
  },
  {
   "cell_type": "markdown",
   "metadata": {},
   "source": [
    "#### `SMO`算法\n",
    "`SMO`算法的基本思路是先固定$\\alpha_i$之外的所有参数，然后求$\\alpha_i$上的极值，由于存在约束$\\sum_{n=1}^N\\alpha_ny^{(n)}=0$，若固定$\\alpha_i$之外的其他变量，则$\\alpha_i$可由其他变量导出。于是，`SMO`每次选择两个变量$\\alpha_i$和$\\alpha_j$，并固定其他参数。这样，在参数初始化后，`SMO`不断执行如下两个步骤\n",
    "- 选取一对需要更新的变量$\\alpha_i$和$\\alpha_j$\n",
    "- 固定$\\alpha_i$和$\\alpha_j$以外的参数，求解$\\Gamma(\\alpha)$获得更新后的$\\alpha_i$和$\\alpha_j$\n",
    "\n",
    "首先将目标函数加上负号转换为求最小值问题\n",
    "$$\\min\\limits_\\alpha\\frac{1}{2}\\sum_{i=1}^N\\sum_{i=1}^N\\alpha^{(i)}\\alpha^{(j)}y^{(i)}y^{(j)}(x^{(i)})^Tx^{(j)}\\\\s.t.\\quad \\sum_{i=1}^N\\alpha_iy^{(i)}=0\\\\C\\geq\\alpha_i\\geq 0,\\ i=1,2,\\cdots,N$$\n",
    "假设我们取定了$\\alpha_i,\\alpha_j$，则有\n",
    "$$\\alpha_i^{new}y_i+\\alpha_j^{new}y_j=\\alpha_i^{old}y_i+\\alpha_j^{old}y_j=\\zeta$$\n",
    "其中$\\zeta$为常数。因为$\\alpha_i$和$\\alpha_j$不好同时求解，所以可以先求$\\alpha_j$的解$\\alpha_j^{new}$，再用$ \\alpha_j^{new}$更新$\\alpha_i^{new}$的解。为了求解$\\alpha_j^{new}$需要先确定其取值范围，假设其上下边界分别为$H,L$，则有$L\\leq \\alpha_j^{new}\\leq H$。而当$y^{(i)}$不等于$y^{(j)}$时(不妨设为$y^{(i)}=1, y^{(j)}=-1$)，则有$\\alpha_i^{old}-\\alpha_j^{old}=\\zeta$，则\n",
    "$$L=\\max(0,-\\zeta),\\quad H=\\min(C,C-\\zeta)$$\n",
    "当$y^{(i)}$等于$y^{(j)}$时，有\n",
    "$$L=\\max(0,\\zeta-C),\\quad H=\\min(C,\\zeta)$$\n",
    "综述为\n",
    "$$\\left\\{\\begin{array}{rcl}& L=\\max(0,-\\zeta),\\quad H=\\min(C,C-\\zeta),\\quad &if\\ y^{(i)}\\neq y^{(j)}\\\\& L=\\max(0,\\zeta-C),\\quad H=\\min(C,\\zeta),\\quad &if\\ y^{(i)}=y^{(j)}\\end{array}\\right.$$\n",
    "令\n",
    "$$f(x^{(t)})=\\sum_{k=1, k\\neq i,j}^N\\alpha_ky^{(k)}(x^{(t)})^Tx^{(k)}+b\\\\v_t=\\sum_{k=1, k\\neq i,j}^N\\alpha_ky^{(k)}(x^{(t)})^Tx^{(k)}=f(x^{(i)})-\\alpha_iy^{(i)}(x^{(t)})^Tx^{(i)}-\\alpha_jy^{(j)}(x^{(t)})^Tx^{(j)}-b$$\n",
    "则最终目标函数记为\n",
    "$$W(\\alpha_j)=\\alpha_i+\\alpha_j-\\frac{1}{2}\\alpha_i^2(x^{(i)})^Tx^{(i)}-\\frac{1}{2}\\alpha_j^2(x^{(j)})^Tx^{(j)}-y^{(i)}y^{(j)}\\alpha_i\\alpha_j(x^{(i)})^Tx^{(j)}-y^{(i)}\\alpha_iv_i-y^{(j)}\\alpha_jv_j+constant$$"
   ]
  },
  {
   "cell_type": "markdown",
   "metadata": {},
   "source": [
    "### 模型效果"
   ]
  },
  {
   "cell_type": "code",
   "execution_count": 12,
   "metadata": {},
   "outputs": [
    {
     "name": "stdout",
     "output_type": "stream",
     "text": [
      "rbf kernel: 0.6257309941520468\n",
      "linear kernel: 0.9707602339181286\n",
      "sigmoid kernel: 0.6257309941520468\n"
     ]
    }
   ],
   "source": [
    "from sklearn.svm import SVC\n",
    "clf_rbf = SVC(kernel='rbf', C=100, gamma=0.1)\n",
    "clf_rbf.fit(X_train, y_train)\n",
    "score_rbf = clf_rbf.score(X_test, y_test)\n",
    "print('rbf kernel:', score_rbf)\n",
    "\n",
    "clf_linear = SVC(kernel='linear', C=100, gamma=0.1)\n",
    "clf_linear.fit(X_train, y_train)\n",
    "score_linear = clf_linear.score(X_test, y_test)\n",
    "print('linear kernel:', score_linear)\n",
    "\n",
    "# clf_poly = SVC(kernel='poly', C=100, gamma=0.1, degree=3)\n",
    "# clf_poly.fit(X_train, y_train)\n",
    "# score_poly = clf_poly.score(X_test, y_test)\n",
    "# print('poly kernel:', score_poly)\n",
    "\n",
    "clf_sigmoid = SVC(kernel='sigmoid', C=100, gamma=0.1)\n",
    "clf_sigmoid.fit(X_train, y_train)\n",
    "score_sigmoid = clf_sigmoid.score(X_test, y_test)\n",
    "print('sigmoid kernel:', score_sigmoid)\n"
   ]
  },
  {
   "cell_type": "markdown",
   "metadata": {},
   "source": [
    "### 模型调参\n",
    "首先分析模型中各个参数的作用\n",
    "- `C`表示错误项的惩罚系数。表示错误项的惩罚系数`C`越大，即对分错样本的惩罚程度越大，因此在训练样本中准确率越高，但是泛化能力降低；相反，减小`C`的话，容许训练样本中有一些误分类错误样本，泛化能力强。\n",
    "- `kernel`表示核函数，可以是`linear`、`poly`、`rbf`、`sigmoid`、`precomputed`等。\n",
    "- `degree`为`poly`多项式核函数的阶数\n",
    "- `gamma`为核函数系数\n",
    "\n",
    "#### 惩罚系数`C`\n",
    "首先我们探讨惩罚系数的影响"
   ]
  },
  {
   "cell_type": "code",
   "execution_count": 13,
   "metadata": {},
   "outputs": [
    {
     "data": {
      "image/png": "[encoded data removed]",
      "text/plain": [
       "<Figure size 432x288 with 1 Axes>"
      ]
     },
     "metadata": {
      "needs_background": "light"
     },
     "output_type": "display_data"
    }
   ],
   "source": [
    "import matplotlib.pyplot as plt\n",
    "CList = [0.1, 1, 2, 5, 10, 20, 50, 100]\n",
    "scores_rbf = [] \n",
    "scores_linear = []\n",
    "scores_poly = []\n",
    "scores_sigmoid = []\n",
    "for C in CList:\n",
    "    clf_rbf = SVC(kernel='rbf', C=C, gamma=0.1)\n",
    "    clf_rbf.fit(X_train, y_train)\n",
    "    scores_rbf.append(clf_rbf.score(X_test, y_test))\n",
    "    clf_linear = SVC(kernel='linear', C=C, gamma=0.1)\n",
    "    clf_linear.fit(X_train, y_train)\n",
    "    scores_linear.append(clf_linear.score(X_test, y_test))\n",
    "    # clf_poly = SVC(kernel='poly', C=C, gamma=0.1, degree=3)\n",
    "    # clf_poly.fit(X_train, y_train)\n",
    "    # scores_poly.append(clf_poly.score(X_test, y_test))\n",
    "    clf_sigmoid = SVC(kernel='sigmoid', C=C, gamma=0.1)\n",
    "    clf_sigmoid.fit(X_train, y_train)\n",
    "    scores_sigmoid.append(clf_sigmoid.score(X_test, y_test))\n",
    "plt.xlabel('C')\n",
    "plt.ylabel('score')\n",
    "plt.plot(CList, scores_rbf, label='rbf')\n",
    "plt.plot(CList, scores_linear, label='linear')\n",
    "# plt.plot(CList, scores_poly, label='poly')\n",
    "plt.plot(CList, scores_sigmoid, label='sigmoid')\n",
    "plt.legend()\n",
    "plt.show()\n"
   ]
  },
  {
   "cell_type": "markdown",
   "metadata": {},
   "source": [
    "可以看出当`C`在2-10之间时效果较好。并且可以看出对于`breast_cancer`数据集而言，`linear`核函数的效果较好较稳定。"
   ]
  },
  {
   "cell_type": "markdown",
   "metadata": {},
   "source": [
    "#### 核函数系数`gamma`\n",
    "此处我们选取上一部分中表现最好的`linear`核函数和`C=10`"
   ]
  },
  {
   "cell_type": "code",
   "execution_count": 14,
   "metadata": {},
   "outputs": [
    {
     "data": {
      "image/png": "[encoded data removed]",
      "text/plain": [
       "<Figure size 432x288 with 1 Axes>"
      ]
     },
     "metadata": {
      "needs_background": "light"
     },
     "output_type": "display_data"
    }
   ],
   "source": [
    "gammaList = [0.001, 0.01, 0.1, 1, 1.5, 2]\n",
    "scores_linear = []\n",
    "scores_rbf = []\n",
    "scores_poly = []\n",
    "scores_sigmoid = []\n",
    "C = 10\n",
    "for gamma in gammaList:\n",
    "    clf_rbf = SVC(kernel='rbf', C=C, gamma=gamma)\n",
    "    clf_rbf.fit(X_train, y_train)\n",
    "    scores_rbf.append(clf_rbf.score(X_test, y_test))\n",
    "    clf_linear = SVC(kernel='linear', C=C, gamma=gamma)\n",
    "    clf_linear.fit(X_train, y_train)\n",
    "    scores_linear.append(clf_linear.score(X_test, y_test))\n",
    "    # clf_poly = SVC(kernel='poly', C=C, gamma=0.1, degree=3)\n",
    "    # clf_poly.fit(X_train, y_train)\n",
    "    # scores_poly.append(clf_poly.score(X_test, y_test))\n",
    "    clf_sigmoid = SVC(kernel='sigmoid', C=C, gamma=gamma)\n",
    "    clf_sigmoid.fit(X_train, y_train)\n",
    "    scores_sigmoid.append(clf_sigmoid.score(X_test, y_test))\n",
    "plt.xlabel('gamma')\n",
    "plt.ylabel('score')\n",
    "plt.plot(gammaList, scores_linear, label='linear')\n",
    "plt.plot(gammaList, scores_rbf, label='rbf')\n",
    "# plt.plot(gammaList, scores_poly, label='poly')\n",
    "plt.plot(gammaList, scores_sigmoid, label='sigmoid')\n",
    "plt.legend()\n",
    "plt.show()"
   ]
  },
  {
   "cell_type": "markdown",
   "metadata": {},
   "source": [
    "看出`gamma`在较大时几乎无影响，在很小时对`rbf`核函数有一定影响，且增大会使得`rbf`核函数准确性下降"
   ]
  },
  {
   "cell_type": "markdown",
   "metadata": {},
   "source": [
    "## 模型优化\n",
    "- 在上述实验中发现`sigmoid`和`rbf`核函数表现均不好，`poly`甚至会发生运行时间过长的情况，所以我们需要思考为什么会出现这种情况。\n",
    "$$K_{linear}(x,z)=x\\cdot z\\\\ K_{poly}(x,z)=(\\gamma x\\cdot z+r)^d\\\\K_{rbf}(x,z)=e^{-\\gamma||x-z||^2}\\\\K_{sigmoid}(x,z)=tanh(\\gamma x\\cdot z+r)$$\n",
    "  可以看出`sigmoid`和`rbf`中不同量级的数值会对核函数结果影响不同，而`linear`则只是单纯的$x\\cdot z$只跟同一量级的数值有关，所以效果不错。为了消除这种影响，我们可以对数据进行标准化处理，使得不同维度的数据都有相同的量级。"
   ]
  },
  {
   "cell_type": "code",
   "execution_count": 15,
   "metadata": {},
   "outputs": [
    {
     "name": "stdout",
     "output_type": "stream",
     "text": [
      "[1.799e+01 1.038e+01 1.228e+02 1.001e+03 1.184e-01 2.776e-01 3.001e-01\n",
      " 1.471e-01 2.419e-01 7.871e-02 1.095e+00 9.053e-01 8.589e+00 1.534e+02\n",
      " 6.399e-03 4.904e-02 5.373e-02 1.587e-02 3.003e-02 6.193e-03 2.538e+01\n",
      " 1.733e+01 1.846e+02 2.019e+03 1.622e-01 6.656e-01 7.119e-01 2.654e-01\n",
      " 4.601e-01 1.189e-01]\n",
      "[0.52103744 0.0226581  0.54598853 0.36373277 0.59375282 0.7920373\n",
      " 0.70313964 0.73111332 0.68636364 0.60551811 0.35614702 0.12046941\n",
      " 0.3690336  0.27381126 0.15929565 0.35139844 0.13568182 0.30062512\n",
      " 0.31164518 0.18304244 0.62077552 0.14152452 0.66831017 0.45069799\n",
      " 0.60113584 0.61929156 0.56861022 0.91202749 0.59846245 0.41886396]\n"
     ]
    }
   ],
   "source": [
    "print(X[0])\n",
    "from sklearn.preprocessing import MinMaxScaler\n",
    "X = MinMaxScaler().fit_transform(X=X)\n",
    "print(X[0])\n",
    "X_train, X_test, y_train, y_test = train_test_split(X, y, test_size=0.3, random_state=2021, shuffle=True)\n"
   ]
  },
  {
   "cell_type": "code",
   "execution_count": 16,
   "metadata": {},
   "outputs": [
    {
     "name": "stdout",
     "output_type": "stream",
     "text": [
      "rbf kernel: 0.9649122807017544\n",
      "linear kernel: 0.9532163742690059\n",
      "poly kernel: 0.9707602339181286\n",
      "sigmoid kernel: 0.9707602339181286\n"
     ]
    }
   ],
   "source": [
    "clf_rbf = SVC(kernel='rbf', C=100, gamma=0.1)\n",
    "clf_rbf.fit(X_train, y_train)\n",
    "score_rbf = clf_rbf.score(X_test, y_test)\n",
    "print('rbf kernel:', score_rbf)\n",
    "\n",
    "clf_linear = SVC(kernel='linear', C=100, gamma=0.1)\n",
    "clf_linear.fit(X_train, y_train)\n",
    "score_linear = clf_linear.score(X_test, y_test)\n",
    "print('linear kernel:', score_linear)\n",
    "\n",
    "clf_poly = SVC(kernel='poly', C=100, gamma=0.1, degree=3)\n",
    "clf_poly.fit(X_train, y_train)\n",
    "score_poly = clf_poly.score(X_test, y_test)\n",
    "print('poly kernel:', score_poly)\n",
    "\n",
    "clf_sigmoid = SVC(kernel='sigmoid', C=100, gamma=0.1)\n",
    "clf_sigmoid.fit(X_train, y_train)\n",
    "score_sigmoid = clf_sigmoid.score(X_test, y_test)\n",
    "print('sigmoid kernel:', score_sigmoid)"
   ]
  },
  {
   "cell_type": "markdown",
   "metadata": {},
   "source": [
    "可以看出，在进行归一化处理后，各个核函数效果均较好，消除了数据的不稳定性。"
   ]
  },
  {
   "cell_type": "markdown",
   "metadata": {},
   "source": [
    "- 使用划分数据集的方式进行训练，会有较强的数据相关性。所以可以采用`KFold`交叉验证的方式进行训练。"
   ]
  },
  {
   "cell_type": "code",
   "execution_count": 17,
   "metadata": {},
   "outputs": [
    {
     "name": "stdout",
     "output_type": "stream",
     "text": [
      "rbf kernel: 0.9649122807017544\n",
      "linear kernel: 0.9648657040832169\n",
      "poly kernel: 0.9771619313771154\n",
      "sigmoid kernel: 0.9683744760130415\n"
     ]
    }
   ],
   "source": [
    "from sklearn.model_selection import KFold\n",
    "kf = KFold(n_splits=5, shuffle=True, random_state=2021)\n",
    "scores_linear = []\n",
    "scores_sigmoid = []\n",
    "scores_rbf = []\n",
    "scores_poly = []\n",
    "for train_index, test_index in kf.split(X):\n",
    "    X_train, X_test = X[train_index], X[test_index]\n",
    "    y_train, y_test = y[train_index], y[test_index]\n",
    "    clf_rbf = SVC(kernel='rbf', C=100, gamma=0.1)\n",
    "    clf_rbf.fit(X_train, y_train)\n",
    "    scores_rbf.append(clf_rbf.score(X_test, y_test))\n",
    "    clf_linear = SVC(kernel='linear', C=100, gamma=0.1)\n",
    "    clf_linear.fit(X_train, y_train)\n",
    "    scores_linear.append(clf_linear.score(X_test, y_test))\n",
    "    clf_poly = SVC(kernel='poly', C=100, gamma=0.1, degree=3)\n",
    "    clf_poly.fit(X_train, y_train)\n",
    "    scores_poly.append(clf_poly.score(X_test, y_test))\n",
    "    clf_sigmoid = SVC(kernel='sigmoid', C=100, gamma=0.1)\n",
    "    clf_sigmoid.fit(X_train, y_train)\n",
    "    scores_sigmoid.append(clf_sigmoid.score(X_test, y_test))\n",
    "print('rbf kernel:', np.mean(score_rbf))\n",
    "print('linear kernel:', np.mean(scores_linear))\n",
    "print('poly kernel:', np.mean(scores_poly))\n",
    "print('sigmoid kernel:', np.mean(scores_sigmoid))"
   ]
  },
  {
   "cell_type": "markdown",
   "metadata": {},
   "source": [
    "## 总结\n",
    "本次实验，通过调用`sklearn`的`svm`模型，对`breast_cancer`数据集进行了训练和预测，并对模型的效果进行了评估。过程中探讨了不同参数的影响，并对模型的调参进行了探讨。经过调参看出`svm`中核函数的选取和`C`的选取对模型的效果有着重要的影响，且由于`SVM`是对超平面的选取，所以不同维度数量级不同的数据而言，超平面的选取时会有较大程度的激荡，所以进行`SVM`训练前必须需要进行归一化处理消除不同维度数据的不同影响。"
   ]
  }
 ],
 "metadata": {
  "interpreter": {
   "hash": "418a6164670b5d92bf37129a5a6635874e0387e34e155382adfe91ece8a749ee"
  },
  "kernelspec": {
   "display_name": "Python 3.9.2 64-bit ('base': conda)",
   "name": "python3"
  },
  "language_info": {
   "codemirror_mode": {
    "name": "ipython",
    "version": 3
   },
   "file_extension": ".py",
   "mimetype": "text/x-python",
   "name": "python",
   "nbconvert_exporter": "python",
   "pygments_lexer": "ipython3",
   "version": "3.9.2"
  },
  "orig_nbformat": 4
 },
 "nbformat": 4,
 "nbformat_minor": 2
}
