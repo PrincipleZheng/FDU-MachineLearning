{
 "cells": [
  {
   "cell_type": "markdown",
   "metadata": {},
   "source": [
    "# Machine Learning: Assignment 5\n",
    "**黄绵秋 19307130142**"
   ]
  },
  {
   "cell_type": "markdown",
   "metadata": {},
   "source": [
    "## 任务描述\n",
    "- 实现`MLPNN`算法\n",
    "- 通过`MLPNN`对`breast_cancer`数据集进行预测"
   ]
  },
  {
   "cell_type": "markdown",
   "metadata": {},
   "source": [
    "## 数据描述\n",
    "- `breast_cancer`数据集一共包含569组数据，按照恶性`malignant`和良性`benign`分为两类，分别被标注为0和1，每组数据包含30个特征\n",
    "- 将特征数据和标签数据分别从`sklearn.datasets`中导出到变量`X,y`中\n",
    "- `breast_cancer`数据集的一些信息如下"
   ]
  },
  {
   "cell_type": "code",
   "execution_count": 76,
   "metadata": {},
   "outputs": [
    {
     "name": "stdout",
     "output_type": "stream",
     "text": [
      "data_size: 569\n",
      "feature_numbers: 30\n",
      "target_names: ['malignant' 'benign']\n",
      ".. _breast_cancer_dataset:\n",
      "\n",
      "Breast cancer wisconsin (diagnostic) dataset\n",
      "--------------------------------------------\n",
      "\n",
      "**Data Set Characteristics:**\n",
      "\n",
      "    :Number of Instances: 569\n",
      "\n",
      "    :Number of Attributes: 30 numeric, predictive attributes and the class\n",
      "\n",
      "    :Attribute Information:\n",
      "        - radius (mean of distances from center to points on the perimeter)\n",
      "        - texture (standard deviation of gray-scale values)\n",
      "        - perimeter\n",
      "        - area\n",
      "        - smoothness (local variation in radius lengths)\n",
      "        - compactness (perimeter^2 / area - 1.0)\n",
      "        - concavity (severity of concave portions of the contour)\n",
      "        - concave points (number of concave portions of the contour)\n",
      "        - symmetry\n",
      "        - fractal dimension (\"coastline approximation\" - 1)\n",
      "\n",
      "        The mean, standard error, and \"worst\" or largest (mean of the three\n",
      "        worst/largest values) of these features were computed for each image,\n",
      "        resulting in 30 features.  For instance, field 0 is Mean Radius, field\n",
      "        10 is Radius SE, field 20 is Worst Radius.\n",
      "\n",
      "        - class:\n",
      "                - WDBC-Malignant\n",
      "                - WDBC-Benign\n",
      "\n",
      "    :Summary Statistics:\n",
      "\n",
      "    ===================================== ====== ======\n",
      "                                           Min    Max\n",
      "    ===================================== ====== ======\n",
      "    radius (mean):                        6.981  28.11\n",
      "    texture (mean):                       9.71   39.28\n",
      "    perimeter (mean):                     43.79  188.5\n",
      "    area (mean):                          143.5  2501.0\n",
      "    smoothness (mean):                    0.053  0.163\n",
      "    compactness (mean):                   0.019  0.345\n",
      "    concavity (mean):                     0.0    0.427\n",
      "    concave points (mean):                0.0    0.201\n",
      "    symmetry (mean):                      0.106  0.304\n",
      "    fractal dimension (mean):             0.05   0.097\n",
      "    radius (standard error):              0.112  2.873\n",
      "    texture (standard error):             0.36   4.885\n",
      "    perimeter (standard error):           0.757  21.98\n",
      "    area (standard error):                6.802  542.2\n",
      "    smoothness (standard error):          0.002  0.031\n",
      "    compactness (standard error):         0.002  0.135\n",
      "    concavity (standard error):           0.0    0.396\n",
      "    concave points (standard error):      0.0    0.053\n",
      "    symmetry (standard error):            0.008  0.079\n",
      "    fractal dimension (standard error):   0.001  0.03\n",
      "    radius (worst):                       7.93   36.04\n",
      "    texture (worst):                      12.02  49.54\n",
      "    perimeter (worst):                    50.41  251.2\n",
      "    area (worst):                         185.2  4254.0\n",
      "    smoothness (worst):                   0.071  0.223\n",
      "    compactness (worst):                  0.027  1.058\n",
      "    concavity (worst):                    0.0    1.252\n",
      "    concave points (worst):               0.0    0.291\n",
      "    symmetry (worst):                     0.156  0.664\n",
      "    fractal dimension (worst):            0.055  0.208\n",
      "    ===================================== ====== ======\n",
      "\n",
      "    :Missing Attribute Values: None\n",
      "\n",
      "    :Class Distribution: 212 - Malignant, 357 - Benign\n",
      "\n",
      "    :Creator:  Dr. William H. Wolberg, W. Nick Street, Olvi L. Mangasarian\n",
      "\n",
      "    :Donor: Nick Street\n",
      "\n",
      "    :Date: November, 1995\n",
      "\n",
      "This is a copy of UCI ML Breast Cancer Wisconsin (Diagnostic) datasets.\n",
      "https://goo.gl/U2Uwz2\n",
      "\n",
      "Features are computed from a digitized image of a fine needle\n",
      "aspirate (FNA) of a breast mass.  They describe\n",
      "characteristics of the cell nuclei present in the image.\n",
      "\n",
      "Separating plane described above was obtained using\n",
      "Multisurface Method-Tree (MSM-T) [K. P. Bennett, \"Decision Tree\n",
      "Construction Via Linear Programming.\" Proceedings of the 4th\n",
      "Midwest Artificial Intelligence and Cognitive Science Society,\n",
      "pp. 97-101, 1992], a classification method which uses linear\n",
      "programming to construct a decision tree.  Relevant features\n",
      "were selected using an exhaustive search in the space of 1-4\n",
      "features and 1-3 separating planes.\n",
      "\n",
      "The actual linear program used to obtain the separating plane\n",
      "in the 3-dimensional space is that described in:\n",
      "[K. P. Bennett and O. L. Mangasarian: \"Robust Linear\n",
      "Programming Discrimination of Two Linearly Inseparable Sets\",\n",
      "Optimization Methods and Software 1, 1992, 23-34].\n",
      "\n",
      "This database is also available through the UW CS ftp server:\n",
      "\n",
      "ftp ftp.cs.wisc.edu\n",
      "cd math-prog/cpo-dataset/machine-learn/WDBC/\n",
      "\n",
      ".. topic:: References\n",
      "\n",
      "   - W.N. Street, W.H. Wolberg and O.L. Mangasarian. Nuclear feature extraction \n",
      "     for breast tumor diagnosis. IS&T/SPIE 1993 International Symposium on \n",
      "     Electronic Imaging: Science and Technology, volume 1905, pages 861-870,\n",
      "     San Jose, CA, 1993.\n",
      "   - O.L. Mangasarian, W.N. Street and W.H. Wolberg. Breast cancer diagnosis and \n",
      "     prognosis via linear programming. Operations Research, 43(4), pages 570-577, \n",
      "     July-August 1995.\n",
      "   - W.H. Wolberg, W.N. Street, and O.L. Mangasarian. Machine learning techniques\n",
      "     to diagnose breast cancer from fine-needle aspirates. Cancer Letters 77 (1994) \n",
      "     163-171.\n"
     ]
    }
   ],
   "source": [
    "from sklearn import datasets\n",
    "import numpy as np\n",
    "cancer = datasets.load_breast_cancer()\n",
    "X = cancer.data\n",
    "y = cancer.target\n",
    "print('data_size:', len(X))\n",
    "print('feature_numbers:', len(X[0]))\n",
    "print('target_names:',cancer.target_names)\n",
    "print(cancer.DESCR)"
   ]
  },
  {
   "cell_type": "markdown",
   "metadata": {},
   "source": [
    "## 数据描述\n",
    "- 通过观察各个特征的数值大小，可以发现各个特征之间数量级差距较大，故而需要进行归一化处理"
   ]
  },
  {
   "cell_type": "code",
   "execution_count": 77,
   "metadata": {},
   "outputs": [
    {
     "name": "stdout",
     "output_type": "stream",
     "text": [
      "[1.799e+01 1.038e+01 1.228e+02 1.001e+03 1.184e-01 2.776e-01 3.001e-01\n",
      " 1.471e-01 2.419e-01 7.871e-02 1.095e+00 9.053e-01 8.589e+00 1.534e+02\n",
      " 6.399e-03 4.904e-02 5.373e-02 1.587e-02 3.003e-02 6.193e-03 2.538e+01\n",
      " 1.733e+01 1.846e+02 2.019e+03 1.622e-01 6.656e-01 7.119e-01 2.654e-01\n",
      " 4.601e-01 1.189e-01]\n",
      "[0.52103744 0.0226581  0.54598853 0.36373277 0.59375282 0.7920373\n",
      " 0.70313964 0.73111332 0.68636364 0.60551811 0.35614702 0.12046941\n",
      " 0.3690336  0.27381126 0.15929565 0.35139844 0.13568182 0.30062512\n",
      " 0.31164518 0.18304244 0.62077552 0.14152452 0.66831017 0.45069799\n",
      " 0.60113584 0.61929156 0.56861022 0.91202749 0.59846245 0.41886396]\n"
     ]
    }
   ],
   "source": [
    "print(X[0])\n",
    "from sklearn.preprocessing import MinMaxScaler\n",
    "X = MinMaxScaler().fit_transform(X=X)\n",
    "print(X[0])"
   ]
  },
  {
   "cell_type": "markdown",
   "metadata": {},
   "source": [
    "- 为对回归结果进行有效评估，将数据分割成训练集和测试集两部分，其中70%为训练集，30%为测试集。"
   ]
  },
  {
   "cell_type": "code",
   "execution_count": 78,
   "metadata": {},
   "outputs": [
    {
     "name": "stdout",
     "output_type": "stream",
     "text": [
      "数据集size:\n",
      " 训练集 (398, 30) (398,) \n",
      " 测试集 (171, 30) (171,)\n"
     ]
    }
   ],
   "source": [
    "from sklearn.model_selection import train_test_split\n",
    "X_train, X_test, y_train, y_test = train_test_split(X, y, test_size=0.3, random_state=2021, shuffle=True)\n",
    "print('数据集size:\\n', '训练集', X_train.shape, y_train.shape, '\\n 测试集', X_test.shape, y_test.shape)"
   ]
  },
  {
   "cell_type": "markdown",
   "metadata": {},
   "source": [
    "## `MLPNN`模型\n",
    "### 模型概述\n",
    "`MLPNN`模型是一种前向结构的人工神经网络，其包含一个输入层、一个或多个隐藏层和一个输出层。在前馈神经网络中，各神经元分别属于不同的层。每一层的神经元可以接收前一层神经元的信号，并产生信号输出到下一层。第0层称为输入层，最后一层称为输出层，其他中间层称为隐藏层。整个网络中无反馈，信号从输入层向输出层单向传播。每层神经元之间为全连接，通过激活函数进行处理，经过最后一层的输出层，通过激活函数进行处理，得到预测结果。\n",
    "\n",
    "![model_description](./v2-2110a4d62384a277ab700907e73e8721_b.gif)"
   ]
  },
  {
   "cell_type": "markdown",
   "metadata": {},
   "source": [
    "### 模型推导\n",
    "#### 符号规定\n",
    "- $L$: 神经网络的层数\n",
    "- $M_l$: 第$l$层的神经元数量\n",
    "- $f_l(\\cdot)$: 第$l$层神经元的激活函数\n",
    "- $W^{(l)}\\in\\mathbb{R}^{M_l\\times M_{l-1}}$: 第$l-1$层神经元到第$l$层神经元的权重矩阵\n",
    "- $b^{(l)}\\in\\mathbb{R}^{M_l}$: 第$l-1$层到第$l$层的偏置向量\n",
    "- $z^{(l)}\\in\\mathbb{R}^{M_l}$: 第$l$层神经元的净输入（净活性值）\n",
    "- $a^{(l)}\\in\\mathbb{R}^{M_l}$: 第$l$层神经元的输出（活性值）"
   ]
  },
  {
   "cell_type": "markdown",
   "metadata": {},
   "source": [
    "#### 模型目标\n",
    "为训练一个有效预测的模型，我们需要训练出$W$和$b$以使预测模型尽可能的接近真实数据。\n",
    "这一过程中需要使损失函数最小化，这一过程中使用最小化损失函数的反向传播算法。"
   ]
  },
  {
   "cell_type": "markdown",
   "metadata": {},
   "source": [
    "####  参数学习\n",
    "多层前馈神经网络可以看作一个非线性复合函数$\\phi:\\ \\mathbb R^D\\rightarrow \\mathbb R^{D'}$，将输入$x\\in \\mathbb R^D$映射到输出$x\\in \\mathbb R^{D'}$。因此，多层前馈神经网络也可以看成是一种特 征转换方法，其输出$\\phi(x)$作为分类器的输入进行分类．\n",
    "\n",
    "给定一个训练样本$(x, y)$，先利用多层前馈神经网络将$x$映射到$\\phi(x)$，然后再将$\\phi(x)$输入到分类器$g(\\cdot)$，即\n",
    "$$\\hat y=g(\\phi(x);\\theta)$$\n",
    "其中$g(\\cdot)$为线性或非线性的分类器，$\\theta$为分类器的参数,$\\hat y$为分类器的输出。\n",
    "\n",
    "设损失函数为$L(y,\\hat y)$。给定训练集为$\\mathcal D=\\{(x^{(n)},y^{(n)})\\}_{n=1}^N$，将每个样本$x^{(n)}$输入给`MLPNN`，得到网络输出为$\\hat y^{(n)}$，其在数据集$\\mathcal D$上的风险函数为\n",
    "$$\\mathcal R(W,b)=\\frac{1}{N}\\sum_{n=1}^N\\mathcal L(y^{(n)}, \\hat y^{(n)})$$\n",
    "为了得到$\\hat y^{(n)}$，我们需要通过各个隐藏层和输出层最终得到，这一过程叫做前向计算。令$a^{(0)}=x$，前馈神经网络通过不断迭代的方式进行信息传播。首先根据第$l-1$层的神经元的活性值$a^{(l-1)}$计算出第$l$层的神经元的净输入$z^{(l)}$，然后根据第$l$层的神经元的净输入$z^{(l)}$经过一个激活函数计算出第$l$层的神经元的活性值$a^{(l)}$，这一过程记为前向计算，公式如下\n",
    "$$z^{(l)}=W^{(l)}f_{l-1}(z^{(l-1)})+b^{(l)}\\\\\n",
    "a^{(l)}=f_l(W^{(l)}a^{(l-1)}+b^{(l)})$$\n",
    "\n",
    "有了学习准则和训练样本，网络参数可以通过梯度下降的方法迭代求解，公式如下，其中$\\alpha$为学习率\n",
    "$$\\begin{align*}W^{(l)}&\\leftarrow W^{(l)}-\\alpha\\frac{\\partial\\mathcal R(W,b)}{\\partial W^{(l)}}\\\\&=W^{(l)}-\\alpha\\left(\\frac{1}{N}\\sum_{n=1}^N\\frac{\\partial\\mathcal L(y^{(n)}, \\hat y^{(n)})}{\\partial W^{(l)}}\\right)\\\\b^{(l)}&\\leftarrow b^{(l)}-\\alpha\\frac{\\partial\\mathcal R(W,b)}{\\partial b^{(l)}}\\\\&=b^{(l)}-\\alpha\\left(\\frac{1}{N}\\sum_{n=1}^N\\frac{\\partial\\mathcal L(y^{(n)}, \\hat y^{(n)})}{\\partial b^{(l)}}\\right)\\end{align*}$$\n",
    "因而参数学习就需要计算损失函数关于每个参数的导数。不失一般性，对第$l$层中的参数$W^{(l)}$和$b^{(l)}$计算偏导数，根据链式法则，有\n",
    "$$\\frac{\\partial\\mathcal L(y,\\hat y)}{\\partial w_{ij}^{(l)}}=\\frac{\\partial z^{(l)}}{\\partial w_{ij}^{(l)}}\\frac{\\partial \\mathcal L(y,\\hat y)}{\\partial z^{(l)}}\\\\\\frac{\\partial\\mathcal L(y,\\hat y)}{\\partial b^{(l)}}=\\frac{\\partial z^{(l)}}{\\partial b^{(l)}}\\frac{\\partial \\mathcal L(y,\\hat y)}{\\partial z^{(l)}}$$\n",
    "问题转化成计算三个偏导数$\\frac{\\partial z^{(l)}}{\\partial w_{ij}^{(l)}},\\frac{\\partial z^{(l)}}{\\partial b^{(l)}},\\frac{\\partial \\mathcal L(y,\\hat y)}{\\partial z^{(l)}}$，经过计算不难得到"
   ]
  },
  {
   "cell_type": "markdown",
   "metadata": {},
   "source": [
    "- 计算$\\frac{\\partial z^{(l)}}{\\partial w_{ij}^{(l)}}$\n",
    "  \n",
    "  因为$z^{(l)}=W^{(l)}a^{(l-1)}+b^{(l)}$，偏导数$\\frac{\\partial z^{(l)}}{\\partial w_{ij}^{(l)}}=\\mathbb{I}_i(a_j^{(l-1)})\\in\\mathbb R^{1\\times M_l}$\n",
    "\n",
    "- 计算$\\frac{\\partial z^{(l)}}{\\partial b^{(l)}}$\n",
    "  \n",
    "  因为$z^{(l)}=W^{(l)}a^{(l-1)}+b^{(l)}$，偏导数$\\frac{\\partial z^{(l)}}{\\partial b^{(l)}}=\\mathbf{I}_{M_l}\\in\\mathbb R^{M_l\\times M_l}$\n",
    "\n",
    "- 计算$\\frac{\\partial \\mathcal L(y,\\hat y)}{\\partial z^{(l)}}$\n",
    "\n",
    "  偏导数$\\frac{\\partial \\mathcal L(y,\\hat y)}{\\partial z^{(l)}}$表示第$l$层神经元对最终损失的影响，也反映了最终损失对第$l$层神经元的影响程度，因此一般称为第$l$层神经元的`误差项`，用$\\delta^{(l)}$来表示\n",
    "\n",
    "  根据$z^{(l+1)}=W^{(l+1)}a^{(l)}+b^{(l+1)}$，有\n",
    "  $$\\frac{\\partial z^{(l+1)}}{\\partial a^{(l)}}=(W^{(l+1)})^T\\in\\mathbb R^{M_l\\times M_{l+1}}$$\n",
    "  根据$a^{(l)}=f_l(z^{(l)}$，其中$f_l(\\cdot)$为按位计算的函数，因此有\n",
    "  $$\\frac{\\partial a^{(l)}}{\\partial z^{(l)}}=\\frac{\\partial f_l(z^{(l)})}{\\partial z^{(l)}}=diag(f_l'(z^{(l)}))\\in\\mathbb R^{M_l\\times M_{l}}$$\n",
    "  因此，根据链式法则，第$l$层的误差项为\n",
    "  $$\\begin{align*}\\delta^{(l)}&\\triangleq\\frac{\\partial \\mathcal L(y,\\hat y)}{\\partial z^{(l)}}\\\\&=\\frac{\\partial a^{(l)}}{\\partial z^{(l)}}\\cdot\\frac{\\partial z^{(l+1)}}{\\partial a^{(l)}}\\cdot\\frac{\\partial \\mathcal L(y,\\hat y)}{\\partial z^{(l+1)}}\\\\&=diag(f_l'(z^{(l)}))\\cdot(W^{(l+1)})^T\\cdot\\delta^{(l+1)}\\end{align*}$$"
   ]
  },
  {
   "cell_type": "markdown",
   "metadata": {},
   "source": [
    "从公式可以看出，第$l$层的误差项可以通过第$l+1$层的误差项计算得\n",
    "到，这就是误差的`反向传播`（BackPropagation，BP）。反向传播算法的含义是：第$l$层的一个神经元的误差项（或敏感性）是所有与该神经元相连的第$l+1$层 的神经元的误差项的权重和，然后，再乘上该神经元激活函数的梯度。\n",
    "\n",
    "计算出上面三个偏导数后，可以得到\n",
    "$$\\begin{align*}\\frac{\\partial\\mathcal L(y,\\hat y)}{\\partial w_{ij}^{(l)}}&=\\mathbf I_i(a_j^{(l-1)})\\delta^{(l)}\\\\&=\\delta^{(l)}_ia_j^{(l-1)}\\end{align*}$$\n",
    "进一步可有\n",
    "$$\\frac{\\partial\\mathcal L(y,\\hat y)}{\\partial W^{(l)}}=\\delta^{(l)}(a^{(l-1)})^T\\in\\mathbb R^{M_l\\times M_{l-1}}$$\n",
    "同理有\n",
    "$$\\frac{\\partial\\mathcal L(y,\\hat y)}{\\partial b^{(l)}}=\\delta^{(l)}\\in\\mathbb R^{M_l}$$\n",
    "在计算出每一层的误差项之后，我们就可以得到每一层参数的梯度．因此， 使用误差反向传播算法的前馈神经网络训练过程可以分为以下三步：\n",
    "1. 前馈计算每一层的净输入$z^{(l)}$和激活值$a^{(l)}$，直到最后一层；\n",
    "2. 反向传播计算每一层的误差项$\\delta^{(l)}$；\n",
    "3. 计算每一层参数的偏导数，并更新参数。"
   ]
  },
  {
   "cell_type": "markdown",
   "metadata": {},
   "source": [
    "### 模型实现"
   ]
  },
  {
   "cell_type": "code",
   "execution_count": 79,
   "metadata": {},
   "outputs": [],
   "source": [
    "class Hyperparam(object):\n",
    "    def __init__(self, input_size, hidden_size, output_size, max_epoch=1000, batch_size=100, epsilon=0.0001):\n",
    "        self.input_size = input_size\n",
    "        self.hidden_size = hidden_size\n",
    "        self.output_size = output_size\n",
    "        self.max_epoch = max_epoch\n",
    "        self.batch_size = batch_size\n",
    "        self.epsilon = epsilon\n",
    "\n",
    "    def toString(self):\n",
    "        return 'input_size: %d, output_size: %d, max_epoch: %d, batch_size: %d, epsilon: %f' % (self.input_size, self.output_size, self.max_epoch, self.batch_size, self.epsilon)"
   ]
  },
  {
   "cell_type": "code",
   "execution_count": 80,
   "metadata": {},
   "outputs": [],
   "source": [
    "class Layer(object):\n",
    "    def __init__(self, input_size, output_size, activation, lr=0.01):\n",
    "        self.input_size = input_size\n",
    "        self.output_size = output_size\n",
    "        self.activation = activation\n",
    "        self.lr = lr\n",
    "        self.W = np.random.randn(input_size, output_size)\n",
    "        self.b = np.zeros((1, output_size))\n",
    "        self.z = np.zeros((1, output_size))\n",
    "        self.a = np.zeros((1, output_size))\n",
    "\n",
    "    def forward(self, x):\n",
    "        self.z = np.dot(x, self.W) + self.b\n",
    "        self.a = self.activation.forward(self.z)\n",
    "        self.input = x\n",
    "        return self.a\n",
    "    \n",
    "    def backward(self, x, grad_a):\n",
    "        dz = self.activation.backward(self.z, grad_a)\n",
    "        m = self.input.shape[0]\n",
    "        dW = np.dot(self.input.T, dz) / m\n",
    "        db = np.sum(dz, axis=0) / m\n",
    "        self.dW = dW\n",
    "        self.db = db\n",
    "        delta_out = np.dot(dz, self.W.T)\n",
    "        return delta_out\n",
    "\n",
    "    def toString(self):\n",
    "        return 'input_size: %d, output_size: %d, lr: %f' % (self.input_size, self.output_size, self.lr)\n",
    "\n",
    "    def update(self):\n",
    "        self.W -= self.lr * self.dW\n",
    "        self.b -= self.lr * self.db\n",
    "\n",
    "class MLPNN(object):\n",
    "    def __init__(self, hp, loss_func, layers):\n",
    "        self.hp = hp\n",
    "        self.loss_func = loss_func\n",
    "        self.layers = layers\n",
    "\n",
    "    def forward(self, X):\n",
    "        input = X\n",
    "        for layer in self.layers:\n",
    "            input = layer.forward(input)\n",
    "        self.output = input\n",
    "        return self.output\n",
    "\n",
    "    def backward(self, X, y):\n",
    "        grad_a = self.loss_func.backward(self.output, y)\n",
    "        for layer in reversed(self.layers):\n",
    "            grad_a = layer.backward(X, grad_a)\n",
    "        return grad_a\n",
    "\n",
    "    def update(self):\n",
    "        for layer in self.layers:\n",
    "            layer.update()\n",
    "    \n",
    "    def train(self, X, y, log=False):\n",
    "        if log:\n",
    "            loss_log = []\n",
    "        for iteration in range(self.hp.max_epoch):\n",
    "            for i in range(0, len(X), self.hp.batch_size):\n",
    "                X_batch = X[i:i+self.hp.batch_size]\n",
    "                y_batch = y[i:i+self.hp.batch_size]\n",
    "                self.forward(X_batch)\n",
    "                self.backward(X_batch, y_batch)\n",
    "                self.update()\n",
    "            # print('epoch:', iteration, 'loss:', self.loss_func.loss(self.output, y_batch))\n",
    "            if log:\n",
    "                loss_log.append(self.loss_func.loss(self.output, y_batch))\n",
    "        if log:\n",
    "            return loss_log\n",
    "\n",
    "    def predict(self, X):\n",
    "        return self.forward(X)\n",
    "\n",
    "    def print(self):\n",
    "        print('layer0: input layer\\n\\r'+layers[0].toString())\n",
    "        for i in range(1, len(layers)-1):\n",
    "            print('layer'+str(i)+': hidden layer\\n\\r'+layers[i].toString())\n",
    "        print('layer'+str(len(layers)-1)+': output layer\\n\\r'+layers[-1].toString())\n",
    "\n",
    "\n",
    "class locc_func(object):\n",
    "    def __init__(self, type='cross'):\n",
    "        if type == 'cross':\n",
    "            self.loss = self.__cross_entropy\n",
    "            self.backward = self.__cross_entropy_backward\n",
    "        elif type == 'mse':\n",
    "            self.loss = self.__mean_squared_error\n",
    "            self.backward = self.__mean_squared_error_backward\n",
    "        else:\n",
    "            raise Exception('unknown loss fuction type')\n",
    "    \n",
    "    def __cross_entropy(self, z, y):\n",
    "        return -np.sum(y * np.log(z)+(1-y)*np.log(1-z))\n",
    "\n",
    "    def __cross_entropy_backward(self, z, y):\n",
    "        return -y/z + (1-y)/(1-z)\n",
    "\n",
    "    def __mean_squared_error(self, z, y):\n",
    "        return np.sum((z-y)**2)\n",
    "\n",
    "    def __mean_squared_error_backward(self, z, y):\n",
    "        return (z-y)\n",
    "\n",
    "class sigmoid_func(object):\n",
    "    def __init__(self):\n",
    "        self.forward = self.__sigmoid\n",
    "        self.backward = self.__sigmoid_backward\n",
    "        self.__result = None\n",
    "    \n",
    "    def __sigmoid(self, z):\n",
    "        self.__result = 1.0 / (1.0 + np.exp(-z))\n",
    "        return self.__result\n",
    "\n",
    "    def __sigmoid_backward(self, z, grad_a):\n",
    "        return grad_a * self.__result * (1 - self.__result)\n",
    "\n",
    "class relu_func(object):\n",
    "    def __init__(self):\n",
    "        self.forward = self.__relu\n",
    "        self.backward = self.__relu_backward\n",
    "    \n",
    "    def __relu(self, z):\n",
    "        return np.maximum(0, z)\n",
    "\n",
    "    def __relu_backward(self, z, grad_a):\n",
    "        return grad_a * (z > 0)"
   ]
  },
  {
   "cell_type": "code",
   "execution_count": 81,
   "metadata": {},
   "outputs": [],
   "source": [
    "def score(test_result, y_test):\n",
    "    counter = 0\n",
    "    acc = 0\n",
    "    for (pred_label, true_label) in zip(test_result, y_test):\n",
    "        counter += 1\n",
    "        if pred_label == true_label:\n",
    "            acc += 1\n",
    "    return acc/counter"
   ]
  },
  {
   "cell_type": "markdown",
   "metadata": {},
   "source": [
    "#### 模型结果\n",
    "以上便是`MLPNN`的模型实现，接下来会据此设计一个具有1个输入层、2个隐藏层和1个输出层的`MLPNN`，并使用进行训练。"
   ]
  },
  {
   "cell_type": "code",
   "execution_count": 82,
   "metadata": {},
   "outputs": [
    {
     "name": "stdout",
     "output_type": "stream",
     "text": [
      "(398, 1)\n",
      "cross test accuracy: 0.9532163742690059\n",
      "mse test accuracy: 0.9532163742690059\n"
     ]
    },
    {
     "data": {
      "image/png": "[encoded data removed]",
      "text/plain": [
       "<Figure size 432x288 with 1 Axes>"
      ]
     },
     "metadata": {
      "needs_background": "light"
     },
     "output_type": "display_data"
    },
    {
     "data": {
      "image/png": "[encoded data removed]",
      "text/plain": [
       "<Figure size 432x288 with 1 Axes>"
      ]
     },
     "metadata": {
      "needs_background": "light"
     },
     "output_type": "display_data"
    }
   ],
   "source": [
    "import matplotlib.pyplot as plt\n",
    "np.random.seed(2021)\n",
    "layers = []\n",
    "layers.append(Layer(input_size=X_train.shape[1], output_size=50, activation=sigmoid_func(), lr=0.1))\n",
    "layers.append(Layer(input_size=50, output_size=50, activation=sigmoid_func(), lr=0.1))\n",
    "layers.append(Layer(input_size=50, output_size=10, activation=sigmoid_func(), lr=0.1))\n",
    "layers.append(Layer(input_size=10, output_size=1, activation=sigmoid_func(), lr=0.1))\n",
    "y_train = y_train.reshape(y_train.shape[0],1)\n",
    "hp=Hyperparam(input_size=X_train.shape[1], hidden_size=2, output_size=1, batch_size=50, max_epoch=10000)\n",
    "mlpnn = MLPNN(hp=hp, loss_func=locc_func('cross'), layers=layers)\n",
    "print(y_train.shape)\n",
    "cross_loss = mlpnn.train(X_train, y_train, log=True)\n",
    "test_result = mlpnn.predict(X_test).reshape(y_test.shape).round()\n",
    "print('cross test accuracy:', score(test_result, y_test))\n",
    "mlpnn = MLPNN(hp=hp, loss_func=locc_func('mse'), layers=layers)\n",
    "mes_loss = mlpnn.train(X_train, y_train, log=True)\n",
    "test_result = mlpnn.predict(X_test).reshape(y_test.shape).round()\n",
    "print('mse test accuracy:', score(test_result, y_test))\n",
    "plt.plot(cross_loss, label='cross')\n",
    "plt.legend()\n",
    "plt.show()\n",
    "plt.plot(mes_loss, label='mes')\n",
    "plt.legend()\n",
    "plt.show()\n"
   ]
  },
  {
   "cell_type": "markdown",
   "metadata": {},
   "source": [
    "经过`MLPNN`的训练后，在测试集中的准确率为`0.9532`，是较为成功的，认为模型实现成功。值得注意的是，采用了小批量梯度下降进行了10000次迭代，交叉熵损失已经收敛，均方差损失的损失一直很小，先上升后下降，在8000次迭代之后逐渐收敛，这表明学习率太小，需要增大以加快学习速度。"
   ]
  },
  {
   "cell_type": "markdown",
   "metadata": {},
   "source": [
    "### 模型优化\n",
    "由于我们的样本容量较小，很可能会出现过拟合现象，所以我们需要引入正则化，使结构风险最小化。此时损失函数为\n",
    "$$\\mathcal R(W,b)=\\frac{1}{N}\\sum_{n=1}^N\\mathcal L(y^{(n)},\\hat y^{(n)})+\\frac{1}{2}\\lambda||W||_F^2$$\n",
    "其中$||W||_F^2$是正则化项，用来防止过拟合，$\\lambda>0$是正则化系数，$\\lambda$越大，正则化项越强，$W$越接近0。这里的$||W||_F^2$我们使用`Frobenius`范数，即求$W$的Frobenius范数，即$||W||_F^2=\\sum_{l=1}^L\\sum_{i=1}^{M_l}\\sum_{j=1}^{M_{l-1}}(w_{ij}^{(l)})^2$。据此我们更新$W$和$b$的参数更新方式：\n",
    "$$\\begin{align*}W^{(l)}&\\leftarrow W^{(l)}-\\alpha\\frac{\\partial\\mathcal R(W,b)}{\\partial W^{(l)}}\\\\&=W^{(l)}-\\alpha\\left(\\frac{1}{N}\\sum_{n=1}^N\\frac{\\partial\\mathcal L(y^{(n)}, \\hat y^{(n)})}{\\partial W^{(l)}}+\\lambda W^{(l)}\\right)\\\\b^{(l)}&\\leftarrow b^{(l)}-\\alpha\\frac{\\partial\\mathcal R(W,b)}{\\partial b^{(l)}}\\\\&=b^{(l)}-\\alpha\\left(\\frac{1}{N}\\sum_{n=1}^N\\frac{\\partial\\mathcal L(y^{(n)}, \\hat y^{(n)})}{\\partial b^{(l)}}\\right)\\end{align*}$$"
   ]
  },
  {
   "cell_type": "code",
   "execution_count": 83,
   "metadata": {},
   "outputs": [],
   "source": [
    "class NormLayer(Layer):\n",
    "    def __init__(self, input_size, output_size, activation=None, lr=0.01, lamda=0.001):\n",
    "        super().__init__(input_size, output_size, activation, lr)\n",
    "        self.lamda = lamda\n",
    "\n",
    "    def update(self):\n",
    "        self.W -= self.lr * self.dW + self.lamda * self.W\n",
    "        self.b -= self.lr * self.db"
   ]
  },
  {
   "cell_type": "code",
   "execution_count": 84,
   "metadata": {},
   "outputs": [
    {
     "name": "stdout",
     "output_type": "stream",
     "text": [
      "(398, 1)\n",
      "cross test accuracy: 0.9649122807017544\n",
      "mse test accuracy: 0.9473684210526315\n"
     ]
    },
    {
     "data": {
      "image/png": "[encoded data removed]",
      "text/plain": [
       "<Figure size 432x288 with 1 Axes>"
      ]
     },
     "metadata": {
      "needs_background": "light"
     },
     "output_type": "display_data"
    },
    {
     "data": {
      "image/png": "[encoded data removed]",
      "text/plain": [
       "<Figure size 432x288 with 1 Axes>"
      ]
     },
     "metadata": {
      "needs_background": "light"
     },
     "output_type": "display_data"
    }
   ],
   "source": [
    "layers = []\n",
    "layers.append(NormLayer(input_size=X_train.shape[1], output_size=50, activation=sigmoid_func(), lamda=0.0001, lr=0.1))\n",
    "layers.append(NormLayer(input_size=50, output_size=50, activation=sigmoid_func(), lamda=0.0001, lr=0.1))\n",
    "layers.append(NormLayer(input_size=50, output_size=10, activation=sigmoid_func(), lamda=0.0001, lr=0.1))\n",
    "layers.append(NormLayer(input_size=10, output_size=1, activation=sigmoid_func(), lamda=0.0001, lr=0.1))\n",
    "y_train = y_train.reshape(y_train.shape[0],1)\n",
    "hp=Hyperparam(input_size=X_train.shape[1], hidden_size=2, output_size=1, batch_size=50, max_epoch=3000)\n",
    "mlpnn = MLPNN(hp=hp, loss_func=locc_func('cross'), layers=layers)\n",
    "print(y_train.shape)\n",
    "cross_loss = mlpnn.train(X_train, y_train, log=True)\n",
    "test_result = mlpnn.predict(X_test).reshape(y_test.shape).round()\n",
    "print('cross test accuracy:', score(test_result, y_test))\n",
    "mlpnn = MLPNN(hp=hp, loss_func=locc_func('mse'), layers=layers)\n",
    "mes_loss = mlpnn.train(X_train, y_train, log=True)\n",
    "test_result = mlpnn.predict(X_test).reshape(y_test.shape).round()\n",
    "print('mse test accuracy:', score(test_result, y_test))\n",
    "plt.plot(cross_loss, label='cross')\n",
    "plt.legend()\n",
    "plt.show()\n",
    "plt.plot(mes_loss, label='mes')\n",
    "plt.legend()\n",
    "plt.show()"
   ]
  },
  {
   "cell_type": "markdown",
   "metadata": {},
   "source": [
    "可以看出在引入正则化后，`MSE`损失函数的梯度下降过程变得更加清晰，更加简洁，更加稳定，也更快达到收敛；交叉熵损失函数的收敛也被加快了。正确率也依然维持在了一个很高的水平。"
   ]
  },
  {
   "cell_type": "markdown",
   "metadata": {},
   "source": [
    "## 总结\n",
    "通过训练多层感知器模型，对`breast_cancer`数据集进行了性能优秀的二分类。为防止过拟合问题，采用了归一化的方式进行数据预处理，引入正则化和结构模型最小化以使模型更稳定，得到了较为准确的分类结果。最终分类的准确率达到0.96左右。"
   ]
  }
 ],
 "metadata": {
  "interpreter": {
   "hash": "418a6164670b5d92bf37129a5a6635874e0387e34e155382adfe91ece8a749ee"
  },
  "kernelspec": {
   "display_name": "Python 3.9.2 64-bit ('base': conda)",
   "name": "python3"
  },
  "language_info": {
   "codemirror_mode": {
    "name": "ipython",
    "version": 3
   },
   "file_extension": ".py",
   "mimetype": "text/x-python",
   "name": "python",
   "nbconvert_exporter": "python",
   "pygments_lexer": "ipython3",
   "version": "3.9.2"
  },
  "orig_nbformat": 4
 },
 "nbformat": 4,
 "nbformat_minor": 2
}
